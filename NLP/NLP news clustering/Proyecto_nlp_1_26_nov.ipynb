{
 "cells": [
  {
   "cell_type": "markdown",
   "id": "b6b0c368",
   "metadata": {},
   "source": []
  },
  {
   "cell_type": "markdown",
   "id": "04c8ff74",
   "metadata": {},
   "source": [
    "**Importando paquetes**"
   ]
  },
  {
   "cell_type": "code",
   "execution_count": 1,
   "id": "1313e342",
   "metadata": {},
   "outputs": [
    {
     "name": "stderr",
     "output_type": "stream",
     "text": [
      "c:\\Users\\Miguel Gomez\\anaconda3\\lib\\site-packages\\scipy\\__init__.py:146: UserWarning: A NumPy version >=1.16.5 and <1.23.0 is required for this version of SciPy (detected version 1.23.5\n",
      "  warnings.warn(f\"A NumPy version >={np_minversion} and <{np_maxversion}\"\n",
      "[nltk_data] Downloading package averaged_perceptron_tagger to\n",
      "[nltk_data]     C:\\Users\\Miguel Gomez\\AppData\\Roaming\\nltk_data...\n",
      "[nltk_data]   Package averaged_perceptron_tagger is already up-to-\n",
      "[nltk_data]       date!\n"
     ]
    }
   ],
   "source": [
    "import pandas as pd\n",
    "import nltk\n",
    "nltk.download('averaged_perceptron_tagger')\n",
    "import fitz #paquete para la lectura de pdf\n",
    "import matplotlib.pyplot as plt\n",
    "from stop_words import get_stop_words\n",
    "import re\n",
    "from nltk import SnowballStemmer\n",
    "import spacy\n",
    "import spacy_spanish_lemmatizer\n",
    "from nltk.stem import WordNetLemmatizer \n",
    "from nltk.corpus import wordnet\n",
    "from wordcloud import WordCloud, ImageColorGenerator\n",
    "from stop_words import get_stop_words\n",
    "from collections import defaultdict\n",
    "nlp=spacy.load('es_core_news_sm')\n",
    "from spacy import displacy\n",
    "import string\n",
    "string.punctuation\n",
    "from nltk.tokenize import word_tokenize\n",
    "\n",
    "\n",
    "from sklearn import svm\n",
    "from sklearn.feature_extraction.text import CountVectorizer\n",
    "from sklearn.model_selection import train_test_split\n",
    "from sklearn.model_selection import GridSearchCV\n",
    "from sklearn.metrics import confusion_matrix\n",
    "from sklearn.feature_extraction.text import TfidfVectorizer\n",
    "from sklearn.feature_extraction import DictVectorizer\n",
    "from sklearn.linear_model import LogisticRegression\n",
    "from sklearn.metrics import classification_report\n",
    "from sklearn.naive_bayes import GaussianNB \n",
    "from sklearn.feature_selection import SelectKBest\n",
    "from sklearn.ensemble import RandomForestClassifier\n",
    "from sklearn.datasets import make_classification\n",
    "from sklearn.cluster import KMeans"
   ]
  },
  {
   "cell_type": "markdown",
   "id": "1995d5bc",
   "metadata": {},
   "source": [
    "Importando dataframe"
   ]
  },
  {
   "cell_type": "code",
   "execution_count": 2,
   "id": "d9b7d1ae",
   "metadata": {},
   "outputs": [
    {
     "data": {
      "text/html": [
       "<div>\n",
       "<style scoped>\n",
       "    .dataframe tbody tr th:only-of-type {\n",
       "        vertical-align: middle;\n",
       "    }\n",
       "\n",
       "    .dataframe tbody tr th {\n",
       "        vertical-align: top;\n",
       "    }\n",
       "\n",
       "    .dataframe thead th {\n",
       "        text-align: right;\n",
       "    }\n",
       "</style>\n",
       "<table border=\"1\" class=\"dataframe\">\n",
       "  <thead>\n",
       "    <tr style=\"text-align: right;\">\n",
       "      <th></th>\n",
       "      <th>Columna1</th>\n",
       "      <th>Enlaces</th>\n",
       "      <th>Título</th>\n",
       "      <th>info</th>\n",
       "      <th>contenido</th>\n",
       "      <th>Etiqueta</th>\n",
       "    </tr>\n",
       "  </thead>\n",
       "  <tbody>\n",
       "    <tr>\n",
       "      <th>0</th>\n",
       "      <td>0</td>\n",
       "      <td>https://www.eltiempo.com/agresion-contra-un-op...</td>\n",
       "      <td>Operador de grúa quedó inconsciente tras agres...</td>\n",
       "      <td>El conductor de una moto le lanzó el casco y p...</td>\n",
       "      <td>Las autoridades están buscando al conductor de...</td>\n",
       "      <td>colombia</td>\n",
       "    </tr>\n",
       "    <tr>\n",
       "      <th>1</th>\n",
       "      <td>1</td>\n",
       "      <td>https://www.eltiempo.com/archivo/documento/CMS...</td>\n",
       "      <td>Usaquén, primera en infracciones por mal parqueo</td>\n",
       "      <td>La localidad ocupa el primer lugar en comparen...</td>\n",
       "      <td>\"Los andenes son para los peatones\", reclama e...</td>\n",
       "      <td>archivo</td>\n",
       "    </tr>\n",
       "    <tr>\n",
       "      <th>2</th>\n",
       "      <td>2</td>\n",
       "      <td>https://www.eltiempo.com/archivo/documento/CMS...</td>\n",
       "      <td>'Me atracaron y vi un arma que me heló la sang...</td>\n",
       "      <td>Un ciudadano relata cómo cuatro hombres lo rob...</td>\n",
       "      <td>A las 7 de la noche me había quedado de encont...</td>\n",
       "      <td>archivo</td>\n",
       "    </tr>\n",
       "    <tr>\n",
       "      <th>3</th>\n",
       "      <td>3</td>\n",
       "      <td>https://www.eltiempo.com/archivo/documento/CMS...</td>\n",
       "      <td>Escoltas mal estacionados, dolor de cabeza de ...</td>\n",
       "      <td>Las zonas de restaurantes se convierten en par...</td>\n",
       "      <td>Atravesados. Eso es lo que se les pasa por la ...</td>\n",
       "      <td>archivo</td>\n",
       "    </tr>\n",
       "    <tr>\n",
       "      <th>4</th>\n",
       "      <td>4</td>\n",
       "      <td>https://www.eltiempo.com/archivo/documento/CMS...</td>\n",
       "      <td>Radicado primer proyecto que autorizaría union...</td>\n",
       "      <td>El representante de 'la U', Miguel Gómez, dijo...</td>\n",
       "      <td>“Estamos proponiendo la figura de un contrato ...</td>\n",
       "      <td>archivo</td>\n",
       "    </tr>\n",
       "    <tr>\n",
       "      <th>...</th>\n",
       "      <td>...</td>\n",
       "      <td>...</td>\n",
       "      <td>...</td>\n",
       "      <td>...</td>\n",
       "      <td>...</td>\n",
       "      <td>...</td>\n",
       "    </tr>\n",
       "    <tr>\n",
       "      <th>14391</th>\n",
       "      <td>14391</td>\n",
       "      <td>https://www.eltiempo.com/vida/viajar/una-viaje...</td>\n",
       "      <td>Una viajera pensó que la aerolínea Viva Air le...</td>\n",
       "      <td>La mujer hizo la denuncia en redes. La aerolín...</td>\n",
       "      <td>En Twitter es tendencia 'FCAS' por una denunci...</td>\n",
       "      <td>vida</td>\n",
       "    </tr>\n",
       "    <tr>\n",
       "      <th>14392</th>\n",
       "      <td>14392</td>\n",
       "      <td>https://www.eltiempo.com/vida/viajar/un-dia-pe...</td>\n",
       "      <td>Un día perfecto en Coco Cay, la isla privada d...</td>\n",
       "      <td>El proyecto Global Private Island Collection c...</td>\n",
       "      <td>La naviera internacional Royal Caribbean prese...</td>\n",
       "      <td>vida</td>\n",
       "    </tr>\n",
       "    <tr>\n",
       "      <th>14393</th>\n",
       "      <td>14393</td>\n",
       "      <td>https://www.eltiempo.com/vida/viajar/visitar-b...</td>\n",
       "      <td>Barú: el paraíso colombiano abierto para todos...</td>\n",
       "      <td>Cuatro hoteles y el Aviario Nacional lanzarán ...</td>\n",
       "      <td>¿Necesita razones para ir a Barú? A menos de u...</td>\n",
       "      <td>vida</td>\n",
       "    </tr>\n",
       "    <tr>\n",
       "      <th>14394</th>\n",
       "      <td>14394</td>\n",
       "      <td>https://www.eltiempo.com/vida/viajar/we-trade-...</td>\n",
       "      <td>Con WeTrade, llega la hora LGBT a Bogotá</td>\n",
       "      <td>El 1 y 2 de noviembre se celebrará esta Feria ...</td>\n",
       "      <td>Se estima que la población LGTBI en Colombia e...</td>\n",
       "      <td>vida</td>\n",
       "    </tr>\n",
       "    <tr>\n",
       "      <th>14395</th>\n",
       "      <td>14395</td>\n",
       "      <td>https://www.eltiempo.com/vida/viajar/yovoy-cam...</td>\n",
       "      <td>#YoVoy, una invitación a viajar por Colombia</td>\n",
       "      <td>El presidente Duque lanzó la campaña nacional ...</td>\n",
       "      <td>Con la intención de que los colombianos conozc...</td>\n",
       "      <td>vida</td>\n",
       "    </tr>\n",
       "  </tbody>\n",
       "</table>\n",
       "<p>14396 rows × 6 columns</p>\n",
       "</div>"
      ],
      "text/plain": [
       "       Columna1                                            Enlaces  \\\n",
       "0             0  https://www.eltiempo.com/agresion-contra-un-op...   \n",
       "1             1  https://www.eltiempo.com/archivo/documento/CMS...   \n",
       "2             2  https://www.eltiempo.com/archivo/documento/CMS...   \n",
       "3             3  https://www.eltiempo.com/archivo/documento/CMS...   \n",
       "4             4  https://www.eltiempo.com/archivo/documento/CMS...   \n",
       "...         ...                                                ...   \n",
       "14391     14391  https://www.eltiempo.com/vida/viajar/una-viaje...   \n",
       "14392     14392  https://www.eltiempo.com/vida/viajar/un-dia-pe...   \n",
       "14393     14393  https://www.eltiempo.com/vida/viajar/visitar-b...   \n",
       "14394     14394  https://www.eltiempo.com/vida/viajar/we-trade-...   \n",
       "14395     14395  https://www.eltiempo.com/vida/viajar/yovoy-cam...   \n",
       "\n",
       "                                                  Título  \\\n",
       "0      Operador de grúa quedó inconsciente tras agres...   \n",
       "1       Usaquén, primera en infracciones por mal parqueo   \n",
       "2      'Me atracaron y vi un arma que me heló la sang...   \n",
       "3      Escoltas mal estacionados, dolor de cabeza de ...   \n",
       "4      Radicado primer proyecto que autorizaría union...   \n",
       "...                                                  ...   \n",
       "14391  Una viajera pensó que la aerolínea Viva Air le...   \n",
       "14392  Un día perfecto en Coco Cay, la isla privada d...   \n",
       "14393  Barú: el paraíso colombiano abierto para todos...   \n",
       "14394           Con WeTrade, llega la hora LGBT a Bogotá   \n",
       "14395       #YoVoy, una invitación a viajar por Colombia   \n",
       "\n",
       "                                                    info  \\\n",
       "0      El conductor de una moto le lanzó el casco y p...   \n",
       "1      La localidad ocupa el primer lugar en comparen...   \n",
       "2      Un ciudadano relata cómo cuatro hombres lo rob...   \n",
       "3      Las zonas de restaurantes se convierten en par...   \n",
       "4      El representante de 'la U', Miguel Gómez, dijo...   \n",
       "...                                                  ...   \n",
       "14391  La mujer hizo la denuncia en redes. La aerolín...   \n",
       "14392  El proyecto Global Private Island Collection c...   \n",
       "14393  Cuatro hoteles y el Aviario Nacional lanzarán ...   \n",
       "14394  El 1 y 2 de noviembre se celebrará esta Feria ...   \n",
       "14395  El presidente Duque lanzó la campaña nacional ...   \n",
       "\n",
       "                                               contenido  Etiqueta  \n",
       "0      Las autoridades están buscando al conductor de...  colombia  \n",
       "1      \"Los andenes son para los peatones\", reclama e...   archivo  \n",
       "2      A las 7 de la noche me había quedado de encont...   archivo  \n",
       "3      Atravesados. Eso es lo que se les pasa por la ...   archivo  \n",
       "4      “Estamos proponiendo la figura de un contrato ...   archivo  \n",
       "...                                                  ...       ...  \n",
       "14391  En Twitter es tendencia 'FCAS' por una denunci...      vida  \n",
       "14392  La naviera internacional Royal Caribbean prese...      vida  \n",
       "14393  ¿Necesita razones para ir a Barú? A menos de u...      vida  \n",
       "14394  Se estima que la población LGTBI en Colombia e...      vida  \n",
       "14395  Con la intención de que los colombianos conozc...      vida  \n",
       "\n",
       "[14396 rows x 6 columns]"
      ]
     },
     "execution_count": 2,
     "metadata": {},
     "output_type": "execute_result"
    }
   ],
   "source": [
    "Noticias= pd.read_excel(\"Noticias.xlsx\")\n",
    "Noticias"
   ]
  },
  {
   "cell_type": "markdown",
   "id": "63d94145",
   "metadata": {},
   "source": [
    "Visualizando variables del dataset Noticias"
   ]
  },
  {
   "cell_type": "code",
   "execution_count": 3,
   "id": "a235ea7c",
   "metadata": {},
   "outputs": [
    {
     "name": "stdout",
     "output_type": "stream",
     "text": [
      "<class 'pandas.core.frame.DataFrame'>\n",
      "RangeIndex: 14396 entries, 0 to 14395\n",
      "Data columns (total 6 columns):\n",
      " #   Column     Non-Null Count  Dtype \n",
      "---  ------     --------------  ----- \n",
      " 0   Columna1   14396 non-null  int64 \n",
      " 1   Enlaces    14396 non-null  object\n",
      " 2   Título     14378 non-null  object\n",
      " 3   info       11483 non-null  object\n",
      " 4   contenido  13738 non-null  object\n",
      " 5   Etiqueta   14396 non-null  object\n",
      "dtypes: int64(1), object(5)\n",
      "memory usage: 674.9+ KB\n"
     ]
    }
   ],
   "source": [
    "Noticias.info()"
   ]
  },
  {
   "cell_type": "markdown",
   "id": "163c5ded",
   "metadata": {},
   "source": [
    "Creando corpues de contenido de noticias"
   ]
  },
  {
   "cell_type": "markdown",
   "id": "5115fd67",
   "metadata": {},
   "source": [
    " **esto lo hizo el profesor**\n",
    "Corpus=list(Noticias['contenido'])\n",
    "#Corpus"
   ]
  },
  {
   "cell_type": "markdown",
   "id": "05d11d14",
   "metadata": {},
   "source": [
    "**esto lo hizo el profesor** txt_Corpus=str(Corpus)\n",
    "#txt_Corpus"
   ]
  },
  {
   "cell_type": "markdown",
   "id": "c58098a0",
   "metadata": {},
   "source": [
    "Creando corpues de titulos"
   ]
  },
  {
   "cell_type": "markdown",
   "id": "0a85ba3b",
   "metadata": {
    "scrolled": true
   },
   "source": [
    "**Esto lo hizo el profesor**Corpus_Titulos=list(Noticias['Título'])\n",
    "#Corpus_Titulos"
   ]
  },
  {
   "cell_type": "markdown",
   "id": "68ecf87e",
   "metadata": {},
   "source": [
    "**Esto lo hizo el profesor**txt_Titulos=str(Noticias['Título'])\n",
    "#txt_Titulos"
   ]
  },
  {
   "cell_type": "markdown",
   "id": "06b0cab2",
   "metadata": {},
   "source": [
    "## Preprocesamiento de los datos"
   ]
  },
  {
   "cell_type": "markdown",
   "id": "097843ef",
   "metadata": {},
   "source": [
    "Obteniendo Stop Words"
   ]
  },
  {
   "cell_type": "code",
   "execution_count": 4,
   "id": "85a94260",
   "metadata": {},
   "outputs": [],
   "source": [
    "stop_words_español=get_stop_words('es') #obteniendo stop words en español"
   ]
  },
  {
   "cell_type": "code",
   "execution_count": 5,
   "id": "a1b1d3e4",
   "metadata": {},
   "outputs": [
    {
     "data": {
      "text/plain": [
       "['a',\n",
       " 'al',\n",
       " 'algo',\n",
       " 'algunas',\n",
       " 'algunos',\n",
       " 'ante',\n",
       " 'antes',\n",
       " 'como',\n",
       " 'con',\n",
       " 'contra',\n",
       " 'cual',\n",
       " 'cuando',\n",
       " 'de',\n",
       " 'del',\n",
       " 'desde',\n",
       " 'donde',\n",
       " 'durante',\n",
       " 'e',\n",
       " 'el',\n",
       " 'ella',\n",
       " 'ellas',\n",
       " 'ellos',\n",
       " 'en',\n",
       " 'entre',\n",
       " 'era',\n",
       " 'erais',\n",
       " 'eran',\n",
       " 'eras',\n",
       " 'eres',\n",
       " 'es',\n",
       " 'esa',\n",
       " 'esas',\n",
       " 'ese',\n",
       " 'eso',\n",
       " 'esos',\n",
       " 'esta',\n",
       " 'estaba',\n",
       " 'estabais',\n",
       " 'estaban',\n",
       " 'estabas',\n",
       " 'estad',\n",
       " 'estada',\n",
       " 'estadas',\n",
       " 'estado',\n",
       " 'estados',\n",
       " 'estamos',\n",
       " 'estando',\n",
       " 'estar',\n",
       " 'estaremos',\n",
       " 'estará',\n",
       " 'estarán',\n",
       " 'estarás',\n",
       " 'estaré',\n",
       " 'estaréis',\n",
       " 'estaría',\n",
       " 'estaríais',\n",
       " 'estaríamos',\n",
       " 'estarían',\n",
       " 'estarías',\n",
       " 'estas',\n",
       " 'este',\n",
       " 'estemos',\n",
       " 'esto',\n",
       " 'estos',\n",
       " 'estoy',\n",
       " 'estuve',\n",
       " 'estuviera',\n",
       " 'estuvierais',\n",
       " 'estuvieran',\n",
       " 'estuvieras',\n",
       " 'estuvieron',\n",
       " 'estuviese',\n",
       " 'estuvieseis',\n",
       " 'estuviesen',\n",
       " 'estuvieses',\n",
       " 'estuvimos',\n",
       " 'estuviste',\n",
       " 'estuvisteis',\n",
       " 'estuviéramos',\n",
       " 'estuviésemos',\n",
       " 'estuvo',\n",
       " 'está',\n",
       " 'estábamos',\n",
       " 'estáis',\n",
       " 'están',\n",
       " 'estás',\n",
       " 'esté',\n",
       " 'estéis',\n",
       " 'estén',\n",
       " 'estés',\n",
       " 'fue',\n",
       " 'fuera',\n",
       " 'fuerais',\n",
       " 'fueran',\n",
       " 'fueras',\n",
       " 'fueron',\n",
       " 'fuese',\n",
       " 'fueseis',\n",
       " 'fuesen',\n",
       " 'fueses',\n",
       " 'fui',\n",
       " 'fuimos',\n",
       " 'fuiste',\n",
       " 'fuisteis',\n",
       " 'fuéramos',\n",
       " 'fuésemos',\n",
       " 'ha',\n",
       " 'habida',\n",
       " 'habidas',\n",
       " 'habido',\n",
       " 'habidos',\n",
       " 'habiendo',\n",
       " 'habremos',\n",
       " 'habrá',\n",
       " 'habrán',\n",
       " 'habrás',\n",
       " 'habré',\n",
       " 'habréis',\n",
       " 'habría',\n",
       " 'habríais',\n",
       " 'habríamos',\n",
       " 'habrían',\n",
       " 'habrías',\n",
       " 'habéis',\n",
       " 'había',\n",
       " 'habíais',\n",
       " 'habíamos',\n",
       " 'habían',\n",
       " 'habías',\n",
       " 'han',\n",
       " 'has',\n",
       " 'hasta',\n",
       " 'hay',\n",
       " 'haya',\n",
       " 'hayamos',\n",
       " 'hayan',\n",
       " 'hayas',\n",
       " 'hayáis',\n",
       " 'he',\n",
       " 'hemos',\n",
       " 'hube',\n",
       " 'hubiera',\n",
       " 'hubierais',\n",
       " 'hubieran',\n",
       " 'hubieras',\n",
       " 'hubieron',\n",
       " 'hubiese',\n",
       " 'hubieseis',\n",
       " 'hubiesen',\n",
       " 'hubieses',\n",
       " 'hubimos',\n",
       " 'hubiste',\n",
       " 'hubisteis',\n",
       " 'hubiéramos',\n",
       " 'hubiésemos',\n",
       " 'hubo',\n",
       " 'la',\n",
       " 'las',\n",
       " 'le',\n",
       " 'les',\n",
       " 'lo',\n",
       " 'los',\n",
       " 'me',\n",
       " 'mi',\n",
       " 'mis',\n",
       " 'mucho',\n",
       " 'muchos',\n",
       " 'muy',\n",
       " 'más',\n",
       " 'mí',\n",
       " 'mía',\n",
       " 'mías',\n",
       " 'mío',\n",
       " 'míos',\n",
       " 'nada',\n",
       " 'ni',\n",
       " 'no',\n",
       " 'nos',\n",
       " 'nosotras',\n",
       " 'nosotros',\n",
       " 'nuestra',\n",
       " 'nuestras',\n",
       " 'nuestro',\n",
       " 'nuestros',\n",
       " 'o',\n",
       " 'os',\n",
       " 'otra',\n",
       " 'otras',\n",
       " 'otro',\n",
       " 'otros',\n",
       " 'para',\n",
       " 'pero',\n",
       " 'poco',\n",
       " 'por',\n",
       " 'porque',\n",
       " 'que',\n",
       " 'quien',\n",
       " 'quienes',\n",
       " 'qué',\n",
       " 'se',\n",
       " 'sea',\n",
       " 'seamos',\n",
       " 'sean',\n",
       " 'seas',\n",
       " 'seremos',\n",
       " 'será',\n",
       " 'serán',\n",
       " 'serás',\n",
       " 'seré',\n",
       " 'seréis',\n",
       " 'sería',\n",
       " 'seríais',\n",
       " 'seríamos',\n",
       " 'serían',\n",
       " 'serías',\n",
       " 'seáis',\n",
       " 'sido',\n",
       " 'siendo',\n",
       " 'sin',\n",
       " 'sobre',\n",
       " 'sois',\n",
       " 'somos',\n",
       " 'son',\n",
       " 'soy',\n",
       " 'su',\n",
       " 'sus',\n",
       " 'suya',\n",
       " 'suyas',\n",
       " 'suyo',\n",
       " 'suyos',\n",
       " 'sí',\n",
       " 'también',\n",
       " 'tanto',\n",
       " 'te',\n",
       " 'tendremos',\n",
       " 'tendrá',\n",
       " 'tendrán',\n",
       " 'tendrás',\n",
       " 'tendré',\n",
       " 'tendréis',\n",
       " 'tendría',\n",
       " 'tendríais',\n",
       " 'tendríamos',\n",
       " 'tendrían',\n",
       " 'tendrías',\n",
       " 'tened',\n",
       " 'tenemos',\n",
       " 'tenga',\n",
       " 'tengamos',\n",
       " 'tengan',\n",
       " 'tengas',\n",
       " 'tengo',\n",
       " 'tengáis',\n",
       " 'tenida',\n",
       " 'tenidas',\n",
       " 'tenido',\n",
       " 'tenidos',\n",
       " 'teniendo',\n",
       " 'tenéis',\n",
       " 'tenía',\n",
       " 'teníais',\n",
       " 'teníamos',\n",
       " 'tenían',\n",
       " 'tenías',\n",
       " 'ti',\n",
       " 'tiene',\n",
       " 'tienen',\n",
       " 'tienes',\n",
       " 'todo',\n",
       " 'todos',\n",
       " 'tu',\n",
       " 'tus',\n",
       " 'tuve',\n",
       " 'tuviera',\n",
       " 'tuvierais',\n",
       " 'tuvieran',\n",
       " 'tuvieras',\n",
       " 'tuvieron',\n",
       " 'tuviese',\n",
       " 'tuvieseis',\n",
       " 'tuviesen',\n",
       " 'tuvieses',\n",
       " 'tuvimos',\n",
       " 'tuviste',\n",
       " 'tuvisteis',\n",
       " 'tuviéramos',\n",
       " 'tuviésemos',\n",
       " 'tuvo',\n",
       " 'tuya',\n",
       " 'tuyas',\n",
       " 'tuyo',\n",
       " 'tuyos',\n",
       " 'tú',\n",
       " 'un',\n",
       " 'una',\n",
       " 'uno',\n",
       " 'unos',\n",
       " 'vosotras',\n",
       " 'vosotros',\n",
       " 'vuestra',\n",
       " 'vuestras',\n",
       " 'vuestro',\n",
       " 'vuestros',\n",
       " 'y',\n",
       " 'ya',\n",
       " 'yo',\n",
       " 'él',\n",
       " 'éramos']"
      ]
     },
     "execution_count": 5,
     "metadata": {},
     "output_type": "execute_result"
    }
   ],
   "source": [
    "stop_words_español"
   ]
  },
  {
   "cell_type": "markdown",
   "id": "c1755e36",
   "metadata": {},
   "source": [
    "Creando funciones para la limpieza de los datos"
   ]
  },
  {
   "cell_type": "markdown",
   "id": "e46fc075",
   "metadata": {},
   "source": [
    "funcion para limpiar caracteres especiales en un dataframe\n",
    "´´´\n",
    "def limpiar_caracteres_especiales(texto):    \n",
    "    texto = re.sub(r'[^a-zA-Z0-9\\s]', ' ', texto)\n",
    "    texto = texto.lower()\n",
    "    texto = texto.strip()\n",
    "    return texto\n",
    "\n",
    " esta funcion me perjudica el codigo porque elimina las vocales que tienen tilde de una palabra \n",
    " ´´´"
   ]
  },
  {
   "cell_type": "code",
   "execution_count": 6,
   "id": "81ae5be0",
   "metadata": {},
   "outputs": [],
   "source": [
    "# crear función para quitar stopwords en al columna Noticias['contenido'] del dataframe\n",
    "\n",
    "def quitar_stopwords(texto):\n",
    "    texto = \" \".join([palabra for palabra in texto.split() if palabra not in stop_words_español])\n",
    "    return texto"
   ]
  },
  {
   "cell_type": "code",
   "execution_count": 7,
   "id": "d3d5a0c1",
   "metadata": {},
   "outputs": [],
   "source": [
    "# convertir en formato string Noticias['contenido']\n",
    "Noticias['contenido']=Noticias['contenido'].astype(str)"
   ]
  },
  {
   "cell_type": "code",
   "execution_count": 8,
   "id": "32b4f724",
   "metadata": {},
   "outputs": [],
   "source": [
    "# funcion para quitar numeros de un txt\n",
    "\n",
    "def quitar_numeros_txt(texto):\n",
    "    texto = re.sub(r'\\d+', '', texto)\n",
    "    return texto\n"
   ]
  },
  {
   "cell_type": "code",
   "execution_count": 9,
   "id": "864b003d",
   "metadata": {},
   "outputs": [],
   "source": [
    "# Funcion para quitar quitar palabras despues de una palabra especifica\n",
    "# esta función es de las mas importantes porque permite hacer la limpieza de las colillas de anuncios pegadas a las noticias \n",
    "def quitar_palabra_despues(texto, palabra):\n",
    "    texto = texto.split(palabra, 1)[0]\n",
    "    return texto"
   ]
  },
  {
   "cell_type": "code",
   "execution_count": 10,
   "id": "ba047cf1",
   "metadata": {},
   "outputs": [],
   "source": [
    "# Lista de palabras especiales para eliminar con la funcion quitarpalabra_despues\n",
    "lista_de_palabras_patron = [\"REDACCIÓN\",\"Redacción Bogotá\",\n",
    "                            \"PORTAFOLIO\",\"Valle del Cauca 07:50\",\n",
    "                            \"FRASES\",\"ROMA\",\"JUSTICIA\", \"BOCAS\",\n",
    "                            \"REVISTA\", \"BOGOTÁ\",\"carrusel\",\n",
    "                            \"NACIÓN\",\"CULTURA\",\"ENTRETENIMIENTO\",\"11:19\"]"
   ]
  },
  {
   "cell_type": "code",
   "execution_count": 11,
   "id": "f3ce8f2e",
   "metadata": {},
   "outputs": [],
   "source": [
    "# delete worlds since a specific word\n",
    "\n",
    "def quitar_palabras_despues(texto, lista_de_palabras_patron):\n",
    "    for palabra in lista_de_palabras_patron:\n",
    "        texto = quitar_palabra_despues(texto, palabra)\n",
    "    return texto"
   ]
  },
  {
   "cell_type": "code",
   "execution_count": 12,
   "id": "e986c40e",
   "metadata": {},
   "outputs": [],
   "source": [
    "#pasar a string la columna Noticias['contenido']\n",
    "Noticias['contenido_cl']=Noticias['contenido']\n",
    "# se aplica la funcion quitar palabras en un ciclo for \n",
    "for palabra in lista_de_palabras_patron:\n",
    "    \n",
    "    Noticias['contenido_cl']=Noticias['contenido_cl'].apply(lambda texto: quitar_palabra_despues(texto, palabra))"
   ]
  },
  {
   "cell_type": "code",
   "execution_count": 13,
   "id": "73321a80",
   "metadata": {},
   "outputs": [],
   "source": [
    "# SE CREA LA FUNCION QUE PERMITE CONTAR PALABRAS EN UNA COLUMNA DE UN DF\n",
    "def contar_palabras(texto):\n",
    "    texto = texto.split()\n",
    "    return len(texto)"
   ]
  },
  {
   "cell_type": "code",
   "execution_count": 14,
   "id": "6ba79a0a",
   "metadata": {},
   "outputs": [],
   "source": [
    "# aplicando la funcion que me permite contar el numero de palabras en la columna de contenido la cual no ha sido limpiada\n",
    "Noticias['cantidad_de_palabras_contenido']=Noticias['contenido'].apply(lambda texto: contar_palabras(texto))"
   ]
  },
  {
   "cell_type": "code",
   "execution_count": 15,
   "id": "8d4e9927",
   "metadata": {},
   "outputs": [],
   "source": [
    "# aplicando la funcion para que me cuente el numero de palabras en la columna de contenido_cl la cual ya ha sido limpiada\n",
    "\n",
    "Noticias['cantidad_de_palabras_contenido_cl']=Noticias['contenido_cl'].apply(lambda texto: contar_palabras(texto))"
   ]
  },
  {
   "cell_type": "code",
   "execution_count": 16,
   "id": "4c283a58",
   "metadata": {},
   "outputs": [],
   "source": [
    "# comparar el numero de palabras en la columna de contenido_cl con el numero de palabras en la columna de contenido\n",
    "\n",
    "Noticias['diferencia_palabras']=Noticias['cantidad_de_palabras_contenido']-Noticias['cantidad_de_palabras_contenido_cl']"
   ]
  },
  {
   "cell_type": "code",
   "execution_count": 17,
   "id": "66ab56db",
   "metadata": {},
   "outputs": [
    {
     "data": {
      "text/html": [
       "<div>\n",
       "<style scoped>\n",
       "    .dataframe tbody tr th:only-of-type {\n",
       "        vertical-align: middle;\n",
       "    }\n",
       "\n",
       "    .dataframe tbody tr th {\n",
       "        vertical-align: top;\n",
       "    }\n",
       "\n",
       "    .dataframe thead th {\n",
       "        text-align: right;\n",
       "    }\n",
       "</style>\n",
       "<table border=\"1\" class=\"dataframe\">\n",
       "  <thead>\n",
       "    <tr style=\"text-align: right;\">\n",
       "      <th></th>\n",
       "      <th>Columna1</th>\n",
       "      <th>Enlaces</th>\n",
       "      <th>Título</th>\n",
       "      <th>info</th>\n",
       "      <th>contenido</th>\n",
       "      <th>Etiqueta</th>\n",
       "      <th>contenido_cl</th>\n",
       "      <th>cantidad_de_palabras_contenido</th>\n",
       "      <th>cantidad_de_palabras_contenido_cl</th>\n",
       "      <th>diferencia_palabras</th>\n",
       "    </tr>\n",
       "  </thead>\n",
       "  <tbody>\n",
       "    <tr>\n",
       "      <th>30</th>\n",
       "      <td>30</td>\n",
       "      <td>https://www.eltiempo.com/archivo/documento/CMS...</td>\n",
       "      <td>Sabella será presentado el sábado como nuevo s...</td>\n",
       "      <td>NaN</td>\n",
       "      <td>nan</td>\n",
       "      <td>archivo</td>\n",
       "      <td>nan</td>\n",
       "      <td>1</td>\n",
       "      <td>1</td>\n",
       "      <td>0</td>\n",
       "    </tr>\n",
       "    <tr>\n",
       "      <th>31</th>\n",
       "      <td>31</td>\n",
       "      <td>https://www.eltiempo.com/archivo/documento/CMS...</td>\n",
       "      <td>'Bolillo' Gómez se disculpa por agredir a muje...</td>\n",
       "      <td>NaN</td>\n",
       "      <td>nan</td>\n",
       "      <td>archivo</td>\n",
       "      <td>nan</td>\n",
       "      <td>1</td>\n",
       "      <td>1</td>\n",
       "      <td>0</td>\n",
       "    </tr>\n",
       "    <tr>\n",
       "      <th>32</th>\n",
       "      <td>32</td>\n",
       "      <td>https://www.eltiempo.com/archivo/documento/CMS...</td>\n",
       "      <td>Lo de 'Bolillo', un golpe bajo para el fútbol ...</td>\n",
       "      <td>NaN</td>\n",
       "      <td>nan</td>\n",
       "      <td>archivo</td>\n",
       "      <td>nan</td>\n",
       "      <td>1</td>\n",
       "      <td>1</td>\n",
       "      <td>0</td>\n",
       "    </tr>\n",
       "    <tr>\n",
       "      <th>33</th>\n",
       "      <td>33</td>\n",
       "      <td>https://www.eltiempo.com/archivo/documento/CMS...</td>\n",
       "      <td>No para mala fortuna del DIM: William Arboleda...</td>\n",
       "      <td>NaN</td>\n",
       "      <td>nan</td>\n",
       "      <td>archivo</td>\n",
       "      <td>nan</td>\n",
       "      <td>1</td>\n",
       "      <td>1</td>\n",
       "      <td>0</td>\n",
       "    </tr>\n",
       "    <tr>\n",
       "      <th>34</th>\n",
       "      <td>34</td>\n",
       "      <td>https://www.eltiempo.com/archivo/documento/CMS...</td>\n",
       "      <td>Aplazado el partido del Tottenham con el Evert...</td>\n",
       "      <td>NaN</td>\n",
       "      <td>nan</td>\n",
       "      <td>archivo</td>\n",
       "      <td>nan</td>\n",
       "      <td>1</td>\n",
       "      <td>1</td>\n",
       "      <td>0</td>\n",
       "    </tr>\n",
       "    <tr>\n",
       "      <th>...</th>\n",
       "      <td>...</td>\n",
       "      <td>...</td>\n",
       "      <td>...</td>\n",
       "      <td>...</td>\n",
       "      <td>...</td>\n",
       "      <td>...</td>\n",
       "      <td>...</td>\n",
       "      <td>...</td>\n",
       "      <td>...</td>\n",
       "      <td>...</td>\n",
       "    </tr>\n",
       "    <tr>\n",
       "      <th>13109</th>\n",
       "      <td>13109</td>\n",
       "      <td>https://www.eltiempo.com/opinion/caricaturas/r...</td>\n",
       "      <td>Caricaturas</td>\n",
       "      <td>NaN</td>\n",
       "      <td>nan</td>\n",
       "      <td>opinion</td>\n",
       "      <td>nan</td>\n",
       "      <td>1</td>\n",
       "      <td>1</td>\n",
       "      <td>0</td>\n",
       "    </tr>\n",
       "    <tr>\n",
       "      <th>13110</th>\n",
       "      <td>13110</td>\n",
       "      <td>https://www.eltiempo.com/opinion/caricaturas/r...</td>\n",
       "      <td>Caricaturas</td>\n",
       "      <td>NaN</td>\n",
       "      <td>nan</td>\n",
       "      <td>opinion</td>\n",
       "      <td>nan</td>\n",
       "      <td>1</td>\n",
       "      <td>1</td>\n",
       "      <td>0</td>\n",
       "    </tr>\n",
       "    <tr>\n",
       "      <th>13111</th>\n",
       "      <td>13111</td>\n",
       "      <td>https://www.eltiempo.com/opinion/caricaturas/r...</td>\n",
       "      <td>Caricaturas</td>\n",
       "      <td>NaN</td>\n",
       "      <td>nan</td>\n",
       "      <td>opinion</td>\n",
       "      <td>nan</td>\n",
       "      <td>1</td>\n",
       "      <td>1</td>\n",
       "      <td>0</td>\n",
       "    </tr>\n",
       "    <tr>\n",
       "      <th>13112</th>\n",
       "      <td>13112</td>\n",
       "      <td>https://www.eltiempo.com/opinion/caricaturas/r...</td>\n",
       "      <td>Caricaturas</td>\n",
       "      <td>NaN</td>\n",
       "      <td>nan</td>\n",
       "      <td>opinion</td>\n",
       "      <td>nan</td>\n",
       "      <td>1</td>\n",
       "      <td>1</td>\n",
       "      <td>0</td>\n",
       "    </tr>\n",
       "    <tr>\n",
       "      <th>14022</th>\n",
       "      <td>14022</td>\n",
       "      <td>https://www.eltiempo.com/tecnosfera/novedades-...</td>\n",
       "      <td>Otras marcas también sacan sus modelos de 'men...</td>\n",
       "      <td>NaN</td>\n",
       "      <td>nan</td>\n",
       "      <td>tecnosfera</td>\n",
       "      <td>nan</td>\n",
       "      <td>1</td>\n",
       "      <td>1</td>\n",
       "      <td>0</td>\n",
       "    </tr>\n",
       "  </tbody>\n",
       "</table>\n",
       "<p>663 rows × 10 columns</p>\n",
       "</div>"
      ],
      "text/plain": [
       "       Columna1                                            Enlaces  \\\n",
       "30           30  https://www.eltiempo.com/archivo/documento/CMS...   \n",
       "31           31  https://www.eltiempo.com/archivo/documento/CMS...   \n",
       "32           32  https://www.eltiempo.com/archivo/documento/CMS...   \n",
       "33           33  https://www.eltiempo.com/archivo/documento/CMS...   \n",
       "34           34  https://www.eltiempo.com/archivo/documento/CMS...   \n",
       "...         ...                                                ...   \n",
       "13109     13109  https://www.eltiempo.com/opinion/caricaturas/r...   \n",
       "13110     13110  https://www.eltiempo.com/opinion/caricaturas/r...   \n",
       "13111     13111  https://www.eltiempo.com/opinion/caricaturas/r...   \n",
       "13112     13112  https://www.eltiempo.com/opinion/caricaturas/r...   \n",
       "14022     14022  https://www.eltiempo.com/tecnosfera/novedades-...   \n",
       "\n",
       "                                                  Título info contenido  \\\n",
       "30     Sabella será presentado el sábado como nuevo s...  NaN       nan   \n",
       "31     'Bolillo' Gómez se disculpa por agredir a muje...  NaN       nan   \n",
       "32     Lo de 'Bolillo', un golpe bajo para el fútbol ...  NaN       nan   \n",
       "33     No para mala fortuna del DIM: William Arboleda...  NaN       nan   \n",
       "34     Aplazado el partido del Tottenham con el Evert...  NaN       nan   \n",
       "...                                                  ...  ...       ...   \n",
       "13109                                        Caricaturas  NaN       nan   \n",
       "13110                                        Caricaturas  NaN       nan   \n",
       "13111                                        Caricaturas  NaN       nan   \n",
       "13112                                        Caricaturas  NaN       nan   \n",
       "14022  Otras marcas también sacan sus modelos de 'men...  NaN       nan   \n",
       "\n",
       "         Etiqueta contenido_cl  cantidad_de_palabras_contenido  \\\n",
       "30        archivo          nan                               1   \n",
       "31        archivo          nan                               1   \n",
       "32        archivo          nan                               1   \n",
       "33        archivo          nan                               1   \n",
       "34        archivo          nan                               1   \n",
       "...           ...          ...                             ...   \n",
       "13109     opinion          nan                               1   \n",
       "13110     opinion          nan                               1   \n",
       "13111     opinion          nan                               1   \n",
       "13112     opinion          nan                               1   \n",
       "14022  tecnosfera          nan                               1   \n",
       "\n",
       "       cantidad_de_palabras_contenido_cl  diferencia_palabras  \n",
       "30                                     1                    0  \n",
       "31                                     1                    0  \n",
       "32                                     1                    0  \n",
       "33                                     1                    0  \n",
       "34                                     1                    0  \n",
       "...                                  ...                  ...  \n",
       "13109                                  1                    0  \n",
       "13110                                  1                    0  \n",
       "13111                                  1                    0  \n",
       "13112                                  1                    0  \n",
       "14022                                  1                    0  \n",
       "\n",
       "[663 rows x 10 columns]"
      ]
     },
     "execution_count": 17,
     "metadata": {},
     "output_type": "execute_result"
    }
   ],
   "source": [
    "# filtar diferencia de palabras mayor a 0\n",
    "\n",
    "Noticias[Noticias['diferencia_palabras']==0]"
   ]
  },
  {
   "cell_type": "code",
   "execution_count": 18,
   "id": "44366655",
   "metadata": {},
   "outputs": [
    {
     "data": {
      "text/html": [
       "<div>\n",
       "<style scoped>\n",
       "    .dataframe tbody tr th:only-of-type {\n",
       "        vertical-align: middle;\n",
       "    }\n",
       "\n",
       "    .dataframe tbody tr th {\n",
       "        vertical-align: top;\n",
       "    }\n",
       "\n",
       "    .dataframe thead th {\n",
       "        text-align: right;\n",
       "    }\n",
       "</style>\n",
       "<table border=\"1\" class=\"dataframe\">\n",
       "  <thead>\n",
       "    <tr style=\"text-align: right;\">\n",
       "      <th></th>\n",
       "      <th>Columna1</th>\n",
       "      <th>Enlaces</th>\n",
       "      <th>Título</th>\n",
       "      <th>info</th>\n",
       "      <th>contenido</th>\n",
       "      <th>Etiqueta</th>\n",
       "      <th>contenido_cl</th>\n",
       "      <th>cantidad_de_palabras_contenido</th>\n",
       "      <th>cantidad_de_palabras_contenido_cl</th>\n",
       "      <th>diferencia_palabras</th>\n",
       "    </tr>\n",
       "  </thead>\n",
       "  <tbody>\n",
       "    <tr>\n",
       "      <th>0</th>\n",
       "      <td>0</td>\n",
       "      <td>https://www.eltiempo.com/agresion-contra-un-op...</td>\n",
       "      <td>Operador de grúa quedó inconsciente tras agres...</td>\n",
       "      <td>El conductor de una moto le lanzó el casco y p...</td>\n",
       "      <td>Las autoridades están buscando al conductor de...</td>\n",
       "      <td>colombia</td>\n",
       "      <td>Las autoridades están buscando al conductor de...</td>\n",
       "      <td>352</td>\n",
       "      <td>247</td>\n",
       "      <td>105</td>\n",
       "    </tr>\n",
       "    <tr>\n",
       "      <th>1</th>\n",
       "      <td>1</td>\n",
       "      <td>https://www.eltiempo.com/archivo/documento/CMS...</td>\n",
       "      <td>Usaquén, primera en infracciones por mal parqueo</td>\n",
       "      <td>La localidad ocupa el primer lugar en comparen...</td>\n",
       "      <td>\"Los andenes son para los peatones\", reclama e...</td>\n",
       "      <td>archivo</td>\n",
       "      <td>\"Los andenes son para los peatones\", reclama e...</td>\n",
       "      <td>532</td>\n",
       "      <td>424</td>\n",
       "      <td>108</td>\n",
       "    </tr>\n",
       "    <tr>\n",
       "      <th>2</th>\n",
       "      <td>2</td>\n",
       "      <td>https://www.eltiempo.com/archivo/documento/CMS...</td>\n",
       "      <td>'Me atracaron y vi un arma que me heló la sang...</td>\n",
       "      <td>Un ciudadano relata cómo cuatro hombres lo rob...</td>\n",
       "      <td>A las 7 de la noche me había quedado de encont...</td>\n",
       "      <td>archivo</td>\n",
       "      <td>A las 7 de la noche me había quedado de encont...</td>\n",
       "      <td>513</td>\n",
       "      <td>409</td>\n",
       "      <td>104</td>\n",
       "    </tr>\n",
       "    <tr>\n",
       "      <th>3</th>\n",
       "      <td>3</td>\n",
       "      <td>https://www.eltiempo.com/archivo/documento/CMS...</td>\n",
       "      <td>Escoltas mal estacionados, dolor de cabeza de ...</td>\n",
       "      <td>Las zonas de restaurantes se convierten en par...</td>\n",
       "      <td>Atravesados. Eso es lo que se les pasa por la ...</td>\n",
       "      <td>archivo</td>\n",
       "      <td>Atravesados. Eso es lo que se les pasa por la ...</td>\n",
       "      <td>488</td>\n",
       "      <td>380</td>\n",
       "      <td>108</td>\n",
       "    </tr>\n",
       "    <tr>\n",
       "      <th>4</th>\n",
       "      <td>4</td>\n",
       "      <td>https://www.eltiempo.com/archivo/documento/CMS...</td>\n",
       "      <td>Radicado primer proyecto que autorizaría union...</td>\n",
       "      <td>El representante de 'la U', Miguel Gómez, dijo...</td>\n",
       "      <td>“Estamos proponiendo la figura de un contrato ...</td>\n",
       "      <td>archivo</td>\n",
       "      <td>“Estamos proponiendo la figura de un contrato ...</td>\n",
       "      <td>1024</td>\n",
       "      <td>918</td>\n",
       "      <td>106</td>\n",
       "    </tr>\n",
       "    <tr>\n",
       "      <th>...</th>\n",
       "      <td>...</td>\n",
       "      <td>...</td>\n",
       "      <td>...</td>\n",
       "      <td>...</td>\n",
       "      <td>...</td>\n",
       "      <td>...</td>\n",
       "      <td>...</td>\n",
       "      <td>...</td>\n",
       "      <td>...</td>\n",
       "      <td>...</td>\n",
       "    </tr>\n",
       "    <tr>\n",
       "      <th>14391</th>\n",
       "      <td>14391</td>\n",
       "      <td>https://www.eltiempo.com/vida/viajar/una-viaje...</td>\n",
       "      <td>Una viajera pensó que la aerolínea Viva Air le...</td>\n",
       "      <td>La mujer hizo la denuncia en redes. La aerolín...</td>\n",
       "      <td>En Twitter es tendencia 'FCAS' por una denunci...</td>\n",
       "      <td>vida</td>\n",
       "      <td>En Twitter es tendencia 'FCAS' por una denunci...</td>\n",
       "      <td>289</td>\n",
       "      <td>192</td>\n",
       "      <td>97</td>\n",
       "    </tr>\n",
       "    <tr>\n",
       "      <th>14392</th>\n",
       "      <td>14392</td>\n",
       "      <td>https://www.eltiempo.com/vida/viajar/un-dia-pe...</td>\n",
       "      <td>Un día perfecto en Coco Cay, la isla privada d...</td>\n",
       "      <td>El proyecto Global Private Island Collection c...</td>\n",
       "      <td>La naviera internacional Royal Caribbean prese...</td>\n",
       "      <td>vida</td>\n",
       "      <td>La naviera internacional Royal Caribbean prese...</td>\n",
       "      <td>510</td>\n",
       "      <td>413</td>\n",
       "      <td>97</td>\n",
       "    </tr>\n",
       "    <tr>\n",
       "      <th>14393</th>\n",
       "      <td>14393</td>\n",
       "      <td>https://www.eltiempo.com/vida/viajar/visitar-b...</td>\n",
       "      <td>Barú: el paraíso colombiano abierto para todos...</td>\n",
       "      <td>Cuatro hoteles y el Aviario Nacional lanzarán ...</td>\n",
       "      <td>¿Necesita razones para ir a Barú? A menos de u...</td>\n",
       "      <td>vida</td>\n",
       "      <td>¿Necesita razones para ir a Barú? A menos de u...</td>\n",
       "      <td>436</td>\n",
       "      <td>336</td>\n",
       "      <td>100</td>\n",
       "    </tr>\n",
       "    <tr>\n",
       "      <th>14394</th>\n",
       "      <td>14394</td>\n",
       "      <td>https://www.eltiempo.com/vida/viajar/we-trade-...</td>\n",
       "      <td>Con WeTrade, llega la hora LGBT a Bogotá</td>\n",
       "      <td>El 1 y 2 de noviembre se celebrará esta Feria ...</td>\n",
       "      <td>Se estima que la población LGTBI en Colombia e...</td>\n",
       "      <td>vida</td>\n",
       "      <td>Se estima que la población LGTBI en Colombia e...</td>\n",
       "      <td>701</td>\n",
       "      <td>600</td>\n",
       "      <td>101</td>\n",
       "    </tr>\n",
       "    <tr>\n",
       "      <th>14395</th>\n",
       "      <td>14395</td>\n",
       "      <td>https://www.eltiempo.com/vida/viajar/yovoy-cam...</td>\n",
       "      <td>#YoVoy, una invitación a viajar por Colombia</td>\n",
       "      <td>El presidente Duque lanzó la campaña nacional ...</td>\n",
       "      <td>Con la intención de que los colombianos conozc...</td>\n",
       "      <td>vida</td>\n",
       "      <td>Con la intención de que los colombianos conozc...</td>\n",
       "      <td>435</td>\n",
       "      <td>338</td>\n",
       "      <td>97</td>\n",
       "    </tr>\n",
       "  </tbody>\n",
       "</table>\n",
       "<p>14396 rows × 10 columns</p>\n",
       "</div>"
      ],
      "text/plain": [
       "       Columna1                                            Enlaces  \\\n",
       "0             0  https://www.eltiempo.com/agresion-contra-un-op...   \n",
       "1             1  https://www.eltiempo.com/archivo/documento/CMS...   \n",
       "2             2  https://www.eltiempo.com/archivo/documento/CMS...   \n",
       "3             3  https://www.eltiempo.com/archivo/documento/CMS...   \n",
       "4             4  https://www.eltiempo.com/archivo/documento/CMS...   \n",
       "...         ...                                                ...   \n",
       "14391     14391  https://www.eltiempo.com/vida/viajar/una-viaje...   \n",
       "14392     14392  https://www.eltiempo.com/vida/viajar/un-dia-pe...   \n",
       "14393     14393  https://www.eltiempo.com/vida/viajar/visitar-b...   \n",
       "14394     14394  https://www.eltiempo.com/vida/viajar/we-trade-...   \n",
       "14395     14395  https://www.eltiempo.com/vida/viajar/yovoy-cam...   \n",
       "\n",
       "                                                  Título  \\\n",
       "0      Operador de grúa quedó inconsciente tras agres...   \n",
       "1       Usaquén, primera en infracciones por mal parqueo   \n",
       "2      'Me atracaron y vi un arma que me heló la sang...   \n",
       "3      Escoltas mal estacionados, dolor de cabeza de ...   \n",
       "4      Radicado primer proyecto que autorizaría union...   \n",
       "...                                                  ...   \n",
       "14391  Una viajera pensó que la aerolínea Viva Air le...   \n",
       "14392  Un día perfecto en Coco Cay, la isla privada d...   \n",
       "14393  Barú: el paraíso colombiano abierto para todos...   \n",
       "14394           Con WeTrade, llega la hora LGBT a Bogotá   \n",
       "14395       #YoVoy, una invitación a viajar por Colombia   \n",
       "\n",
       "                                                    info  \\\n",
       "0      El conductor de una moto le lanzó el casco y p...   \n",
       "1      La localidad ocupa el primer lugar en comparen...   \n",
       "2      Un ciudadano relata cómo cuatro hombres lo rob...   \n",
       "3      Las zonas de restaurantes se convierten en par...   \n",
       "4      El representante de 'la U', Miguel Gómez, dijo...   \n",
       "...                                                  ...   \n",
       "14391  La mujer hizo la denuncia en redes. La aerolín...   \n",
       "14392  El proyecto Global Private Island Collection c...   \n",
       "14393  Cuatro hoteles y el Aviario Nacional lanzarán ...   \n",
       "14394  El 1 y 2 de noviembre se celebrará esta Feria ...   \n",
       "14395  El presidente Duque lanzó la campaña nacional ...   \n",
       "\n",
       "                                               contenido  Etiqueta  \\\n",
       "0      Las autoridades están buscando al conductor de...  colombia   \n",
       "1      \"Los andenes son para los peatones\", reclama e...   archivo   \n",
       "2      A las 7 de la noche me había quedado de encont...   archivo   \n",
       "3      Atravesados. Eso es lo que se les pasa por la ...   archivo   \n",
       "4      “Estamos proponiendo la figura de un contrato ...   archivo   \n",
       "...                                                  ...       ...   \n",
       "14391  En Twitter es tendencia 'FCAS' por una denunci...      vida   \n",
       "14392  La naviera internacional Royal Caribbean prese...      vida   \n",
       "14393  ¿Necesita razones para ir a Barú? A menos de u...      vida   \n",
       "14394  Se estima que la población LGTBI en Colombia e...      vida   \n",
       "14395  Con la intención de que los colombianos conozc...      vida   \n",
       "\n",
       "                                            contenido_cl  \\\n",
       "0      Las autoridades están buscando al conductor de...   \n",
       "1      \"Los andenes son para los peatones\", reclama e...   \n",
       "2      A las 7 de la noche me había quedado de encont...   \n",
       "3      Atravesados. Eso es lo que se les pasa por la ...   \n",
       "4      “Estamos proponiendo la figura de un contrato ...   \n",
       "...                                                  ...   \n",
       "14391  En Twitter es tendencia 'FCAS' por una denunci...   \n",
       "14392  La naviera internacional Royal Caribbean prese...   \n",
       "14393  ¿Necesita razones para ir a Barú? A menos de u...   \n",
       "14394  Se estima que la población LGTBI en Colombia e...   \n",
       "14395  Con la intención de que los colombianos conozc...   \n",
       "\n",
       "       cantidad_de_palabras_contenido  cantidad_de_palabras_contenido_cl  \\\n",
       "0                                 352                                247   \n",
       "1                                 532                                424   \n",
       "2                                 513                                409   \n",
       "3                                 488                                380   \n",
       "4                                1024                                918   \n",
       "...                               ...                                ...   \n",
       "14391                             289                                192   \n",
       "14392                             510                                413   \n",
       "14393                             436                                336   \n",
       "14394                             701                                600   \n",
       "14395                             435                                338   \n",
       "\n",
       "       diferencia_palabras  \n",
       "0                      105  \n",
       "1                      108  \n",
       "2                      104  \n",
       "3                      108  \n",
       "4                      106  \n",
       "...                    ...  \n",
       "14391                   97  \n",
       "14392                   97  \n",
       "14393                  100  \n",
       "14394                  101  \n",
       "14395                   97  \n",
       "\n",
       "[14396 rows x 10 columns]"
      ]
     },
     "execution_count": 18,
     "metadata": {},
     "output_type": "execute_result"
    }
   ],
   "source": [
    "# sacar los datos nan de la columna de contenido\n",
    "\n",
    "Noticias=Noticias[Noticias['contenido'].notna()]\n",
    "Noticias"
   ]
  },
  {
   "cell_type": "code",
   "execution_count": 19,
   "id": "de50a2ec",
   "metadata": {},
   "outputs": [
    {
     "name": "stdout",
     "output_type": "stream",
     "text": [
      "<class 'pandas.core.frame.DataFrame'>\n",
      "Int64Index: 14396 entries, 0 to 14395\n",
      "Data columns (total 10 columns):\n",
      " #   Column                             Non-Null Count  Dtype \n",
      "---  ------                             --------------  ----- \n",
      " 0   Columna1                           14396 non-null  int64 \n",
      " 1   Enlaces                            14396 non-null  object\n",
      " 2   Título                             14378 non-null  object\n",
      " 3   info                               11483 non-null  object\n",
      " 4   contenido                          14396 non-null  object\n",
      " 5   Etiqueta                           14396 non-null  object\n",
      " 6   contenido_cl                       14396 non-null  object\n",
      " 7   cantidad_de_palabras_contenido     14396 non-null  int64 \n",
      " 8   cantidad_de_palabras_contenido_cl  14396 non-null  int64 \n",
      " 9   diferencia_palabras                14396 non-null  int64 \n",
      "dtypes: int64(4), object(6)\n",
      "memory usage: 1.2+ MB\n"
     ]
    }
   ],
   "source": [
    "Noticias.info()"
   ]
  },
  {
   "cell_type": "markdown",
   "id": "40f7881b",
   "metadata": {},
   "source": [
    "limpieando adicional"
   ]
  },
  {
   "cell_type": "code",
   "execution_count": 20,
   "id": "55b59853",
   "metadata": {},
   "outputs": [
    {
     "data": {
      "text/plain": [
       "0        Las autoridades buscando conductor moto lanzó ...\n",
       "1        \"Los andenes peatones\", reclama enfática *Carm...\n",
       "2        A 7 noche quedado encontrar Boris, siempre cum...\n",
       "3        Atravesados. Eso pasa cabeza residentes transe...\n",
       "4        “Estamos proponiendo figura contrato civil uni...\n",
       "                               ...                        \n",
       "14391    En Twitter tendencia 'FCAS' denuncia hizo muje...\n",
       "14392    La naviera internacional Royal Caribbean prese...\n",
       "14393    ¿Necesita razones ir Barú? A menos hora Cartag...\n",
       "14394    Se estima población LGTBI Colombia 3,3 millone...\n",
       "14395    Con intención colombianos conozcan país aprove...\n",
       "Name: contenido_cl, Length: 14396, dtype: object"
      ]
     },
     "execution_count": 20,
     "metadata": {},
     "output_type": "execute_result"
    }
   ],
   "source": [
    "# quitamos las stopwords\n",
    "Noticias['contenido_cl']=Noticias['contenido_cl'].apply(lambda texto: quitar_stopwords(texto))\n",
    "Noticias['contenido_cl']"
   ]
  },
  {
   "cell_type": "code",
   "execution_count": 21,
   "id": "229ffc08",
   "metadata": {},
   "outputs": [
    {
     "data": {
      "text/plain": [
       "0        Las autoridades buscando conductor moto lanzó ...\n",
       "1        \"Los andenes peatones\", reclama enfática *Carm...\n",
       "2        A  noche quedado encontrar Boris, siempre cump...\n",
       "3        Atravesados. Eso pasa cabeza residentes transe...\n",
       "4        “Estamos proponiendo figura contrato civil uni...\n",
       "                               ...                        \n",
       "14391    En Twitter tendencia 'FCAS' denuncia hizo muje...\n",
       "14392    La naviera internacional Royal Caribbean prese...\n",
       "14393    ¿Necesita razones ir Barú? A menos hora Cartag...\n",
       "14394    Se estima población LGTBI Colombia , millones ...\n",
       "14395    Con intención colombianos conozcan país aprove...\n",
       "Name: contenido_cl, Length: 14396, dtype: object"
      ]
     },
     "execution_count": 21,
     "metadata": {},
     "output_type": "execute_result"
    }
   ],
   "source": [
    "# quitamos los numeros\n",
    "Noticias['contenido_cl']=Noticias['contenido_cl'].apply(lambda texto: quitar_numeros_txt(texto))\n",
    "Noticias['contenido_cl']"
   ]
  },
  {
   "cell_type": "code",
   "execution_count": 22,
   "id": "4c35b14d",
   "metadata": {},
   "outputs": [
    {
     "data": {
      "text/plain": [
       "0        Las autoridades buscando conductor moto lanzó ...\n",
       "1        Los andenes peatones reclama enfática Carmenza...\n",
       "2        A  noche quedado encontrar Boris siempre cumpl...\n",
       "3        Atravesados Eso pasa cabeza residentes transeú...\n",
       "4        “Estamos proponiendo figura contrato civil uni...\n",
       "                               ...                        \n",
       "14391    En Twitter tendencia FCAS denuncia hizo mujer ...\n",
       "14392    La naviera internacional Royal Caribbean prese...\n",
       "14393    ¿Necesita razones ir Barú A menos hora Cartage...\n",
       "14394    Se estima población LGTBI Colombia  millones p...\n",
       "14395    Con intención colombianos conozcan país aprove...\n",
       "Name: contenido_cl, Length: 14396, dtype: object"
      ]
     },
     "execution_count": 22,
     "metadata": {},
     "output_type": "execute_result"
    }
   ],
   "source": [
    "#quitar los signos de puntuacion\n",
    "Noticias['contenido_cl']=Noticias['contenido_cl'].apply(lambda texto: texto.translate(str.maketrans('', '', string.punctuation)))\n",
    "Noticias['contenido_cl']"
   ]
  },
  {
   "cell_type": "markdown",
   "id": "206c32bf",
   "metadata": {},
   "source": [
    "Creando la columna de texto limpio y tokenizado"
   ]
  },
  {
   "cell_type": "code",
   "execution_count": 23,
   "id": "808e9201",
   "metadata": {},
   "outputs": [
    {
     "data": {
      "text/plain": [
       "0        [las, autoridades, buscando, conductor, moto, ...\n",
       "1        [los, andenes, peatones, reclama, enfática, ca...\n",
       "2        [a, noche, quedado, encontrar, boris, siempre,...\n",
       "3        [atravesados, eso, pasa, cabeza, residentes, t...\n",
       "4        [“, estamos, proponiendo, figura, contrato, ci...\n",
       "                               ...                        \n",
       "14391    [en, twitter, tendencia, fcas, denuncia, hizo,...\n",
       "14392    [la, naviera, internacional, royal, caribbean,...\n",
       "14393    [¿necesita, razones, ir, barú, a, menos, hora,...\n",
       "14394    [se, estima, población, lgtbi, colombia, millo...\n",
       "14395    [con, intención, colombianos, conozcan, país, ...\n",
       "Name: contenido_cl_tk, Length: 14396, dtype: object"
      ]
     },
     "execution_count": 23,
     "metadata": {},
     "output_type": "execute_result"
    }
   ],
   "source": [
    "# function for tokenization \n",
    "\n",
    "def tokenizar(texto):\n",
    "    tokens=word_tokenize(texto)\n",
    "    return tokens\n",
    "\n",
    "Noticias['contenido_cl_tk'] =   Noticias['contenido_cl'].apply(lambda x: tokenizar(x.lower()))\n",
    "Noticias['contenido_cl_tk']"
   ]
  },
  {
   "cell_type": "markdown",
   "id": "9deb0031",
   "metadata": {},
   "source": [
    "### stimming"
   ]
  },
  {
   "cell_type": "code",
   "execution_count": 24,
   "id": "f85e46cd",
   "metadata": {},
   "outputs": [],
   "source": [
    "doc = Noticias['contenido_cl']\n",
    "text = doc.to_string()"
   ]
  },
  {
   "cell_type": "code",
   "execution_count": 25,
   "id": "199932b0",
   "metadata": {},
   "outputs": [
    {
     "data": {
      "text/plain": [
       "0        Las autoridades buscando conductor moto lanzó ...\n",
       "1        Los andenes peatones reclama enfática Carmenza...\n",
       "2        A  noche quedado encontrar Boris siempre cumpl...\n",
       "3        Atravesados Eso pasa cabeza residentes transeú...\n",
       "4        “Estamos proponiendo figura contrato civil uni...\n",
       "                               ...                        \n",
       "14391    En Twitter tendencia FCAS denuncia hizo mujer ...\n",
       "14392    La naviera internacional Royal Caribbean prese...\n",
       "14393    ¿Necesita razones ir Barú A menos hora Cartage...\n",
       "14394    Se estima población LGTBI Colombia  millones p...\n",
       "14395    Con intención colombianos conozcan país aprove...\n",
       "Name: contenido_cl, Length: 14396, dtype: object"
      ]
     },
     "execution_count": 25,
     "metadata": {},
     "output_type": "execute_result"
    }
   ],
   "source": [
    "doc"
   ]
  },
  {
   "cell_type": "code",
   "execution_count": 26,
   "id": "db8616c1",
   "metadata": {},
   "outputs": [],
   "source": [
    "texto_clean_columna=Noticias['contenido_cl'][0:1000]\n",
    "# seleccionar las primeras 5 filas de la columna de texto limpio"
   ]
  },
  {
   "cell_type": "code",
   "execution_count": 27,
   "id": "ea7a3f60",
   "metadata": {},
   "outputs": [
    {
     "data": {
      "text/plain": [
       "0      Las autoridades buscando conductor moto lanzó ...\n",
       "1      Los andenes peatones reclama enfática Carmenza...\n",
       "2      A  noche quedado encontrar Boris siempre cumpl...\n",
       "3      Atravesados Eso pasa cabeza residentes transeú...\n",
       "4      “Estamos proponiendo figura contrato civil uni...\n",
       "                             ...                        \n",
       "995                                                     \n",
       "996                                                     \n",
       "997                                                     \n",
       "998    Hasta domingo noche solo jueza delegado Procur...\n",
       "999    popular película vampiros Crepúsculo Amanecer ...\n",
       "Name: contenido_cl, Length: 1000, dtype: object"
      ]
     },
     "execution_count": 27,
     "metadata": {},
     "output_type": "execute_result"
    }
   ],
   "source": [
    "texto_clean_columna"
   ]
  },
  {
   "cell_type": "code",
   "execution_count": 28,
   "id": "77fc59a3",
   "metadata": {},
   "outputs": [],
   "source": [
    "def normalize(text):\n",
    "    doc = nlp(text)\n",
    "    words = [t.orth_ for t in doc if not t.is_punct | t.is_stop]\n",
    "    lexical_tokens = [t.lower() for t in words if len(t) > 3 and     \n",
    "    t.isalpha()]\n",
    "    return lexical_tokens\n"
   ]
  },
  {
   "cell_type": "code",
   "execution_count": 29,
   "id": "a7272836",
   "metadata": {},
   "outputs": [],
   "source": [
    "Lista_texto_procesado=[]\n",
    "for document in texto_clean_columna:\n",
    "    Lista_texto_procesado.append(normalize(document))\n",
    "    "
   ]
  },
  {
   "cell_type": "code",
   "execution_count": 30,
   "id": "3985f78a",
   "metadata": {},
   "outputs": [
    {
     "data": {
      "text/plain": [
       "1000"
      ]
     },
     "execution_count": 30,
     "metadata": {},
     "output_type": "execute_result"
    }
   ],
   "source": [
    "len(Lista_texto_procesado)"
   ]
  },
  {
   "cell_type": "code",
   "execution_count": 31,
   "id": "411a02f1",
   "metadata": {},
   "outputs": [],
   "source": [
    "Lista_texto_procesado_2= [' '.join(k) for k in Lista_texto_procesado]"
   ]
  },
  {
   "cell_type": "code",
   "execution_count": 32,
   "id": "46229214",
   "metadata": {},
   "outputs": [
    {
     "data": {
      "text/plain": [
       "list"
      ]
     },
     "execution_count": 32,
     "metadata": {},
     "output_type": "execute_result"
    }
   ],
   "source": [
    "type(Lista_texto_procesado_2)"
   ]
  },
  {
   "cell_type": "code",
   "execution_count": 33,
   "id": "091aa7c1",
   "metadata": {},
   "outputs": [],
   "source": [
    "# pasar una lista a pandas.core.series.Series\n",
    "\n",
    "df_texto_procesado_2=pd.Series(Lista_texto_procesado_2)"
   ]
  },
  {
   "cell_type": "code",
   "execution_count": 34,
   "id": "03b88ab3",
   "metadata": {},
   "outputs": [
    {
     "data": {
      "text/plain": [
       "pandas.core.series.Series"
      ]
     },
     "execution_count": 34,
     "metadata": {},
     "output_type": "execute_result"
    }
   ],
   "source": [
    "type(df_texto_procesado_2)"
   ]
  },
  {
   "cell_type": "markdown",
   "id": "16355b02",
   "metadata": {},
   "source": [
    "# VECTORIZAR"
   ]
  },
  {
   "cell_type": "code",
   "execution_count": 35,
   "id": "57afd76f",
   "metadata": {},
   "outputs": [
    {
     "data": {
      "text/html": [
       "<style>#sk-container-id-1 {color: black;background-color: white;}#sk-container-id-1 pre{padding: 0;}#sk-container-id-1 div.sk-toggleable {background-color: white;}#sk-container-id-1 label.sk-toggleable__label {cursor: pointer;display: block;width: 100%;margin-bottom: 0;padding: 0.3em;box-sizing: border-box;text-align: center;}#sk-container-id-1 label.sk-toggleable__label-arrow:before {content: \"▸\";float: left;margin-right: 0.25em;color: #696969;}#sk-container-id-1 label.sk-toggleable__label-arrow:hover:before {color: black;}#sk-container-id-1 div.sk-estimator:hover label.sk-toggleable__label-arrow:before {color: black;}#sk-container-id-1 div.sk-toggleable__content {max-height: 0;max-width: 0;overflow: hidden;text-align: left;background-color: #f0f8ff;}#sk-container-id-1 div.sk-toggleable__content pre {margin: 0.2em;color: black;border-radius: 0.25em;background-color: #f0f8ff;}#sk-container-id-1 input.sk-toggleable__control:checked~div.sk-toggleable__content {max-height: 200px;max-width: 100%;overflow: auto;}#sk-container-id-1 input.sk-toggleable__control:checked~label.sk-toggleable__label-arrow:before {content: \"▾\";}#sk-container-id-1 div.sk-estimator input.sk-toggleable__control:checked~label.sk-toggleable__label {background-color: #d4ebff;}#sk-container-id-1 div.sk-label input.sk-toggleable__control:checked~label.sk-toggleable__label {background-color: #d4ebff;}#sk-container-id-1 input.sk-hidden--visually {border: 0;clip: rect(1px 1px 1px 1px);clip: rect(1px, 1px, 1px, 1px);height: 1px;margin: -1px;overflow: hidden;padding: 0;position: absolute;width: 1px;}#sk-container-id-1 div.sk-estimator {font-family: monospace;background-color: #f0f8ff;border: 1px dotted black;border-radius: 0.25em;box-sizing: border-box;margin-bottom: 0.5em;}#sk-container-id-1 div.sk-estimator:hover {background-color: #d4ebff;}#sk-container-id-1 div.sk-parallel-item::after {content: \"\";width: 100%;border-bottom: 1px solid gray;flex-grow: 1;}#sk-container-id-1 div.sk-label:hover label.sk-toggleable__label {background-color: #d4ebff;}#sk-container-id-1 div.sk-serial::before {content: \"\";position: absolute;border-left: 1px solid gray;box-sizing: border-box;top: 0;bottom: 0;left: 50%;z-index: 0;}#sk-container-id-1 div.sk-serial {display: flex;flex-direction: column;align-items: center;background-color: white;padding-right: 0.2em;padding-left: 0.2em;position: relative;}#sk-container-id-1 div.sk-item {position: relative;z-index: 1;}#sk-container-id-1 div.sk-parallel {display: flex;align-items: stretch;justify-content: center;background-color: white;position: relative;}#sk-container-id-1 div.sk-item::before, #sk-container-id-1 div.sk-parallel-item::before {content: \"\";position: absolute;border-left: 1px solid gray;box-sizing: border-box;top: 0;bottom: 0;left: 50%;z-index: -1;}#sk-container-id-1 div.sk-parallel-item {display: flex;flex-direction: column;z-index: 1;position: relative;background-color: white;}#sk-container-id-1 div.sk-parallel-item:first-child::after {align-self: flex-end;width: 50%;}#sk-container-id-1 div.sk-parallel-item:last-child::after {align-self: flex-start;width: 50%;}#sk-container-id-1 div.sk-parallel-item:only-child::after {width: 0;}#sk-container-id-1 div.sk-dashed-wrapped {border: 1px dashed gray;margin: 0 0.4em 0.5em 0.4em;box-sizing: border-box;padding-bottom: 0.4em;background-color: white;}#sk-container-id-1 div.sk-label label {font-family: monospace;font-weight: bold;display: inline-block;line-height: 1.2em;}#sk-container-id-1 div.sk-label-container {text-align: center;}#sk-container-id-1 div.sk-container {/* jupyter's `normalize.less` sets `[hidden] { display: none; }` but bootstrap.min.css set `[hidden] { display: none !important; }` so we also need the `!important` here to be able to override the default hidden behavior on the sphinx rendered scikit-learn.org. See: https://github.com/scikit-learn/scikit-learn/issues/21755 */display: inline-block !important;position: relative;}#sk-container-id-1 div.sk-text-repr-fallback {display: none;}</style><div id=\"sk-container-id-1\" class=\"sk-top-container\"><div class=\"sk-text-repr-fallback\"><pre>CountVectorizer()</pre><b>In a Jupyter environment, please rerun this cell to show the HTML representation or trust the notebook. <br />On GitHub, the HTML representation is unable to render, please try loading this page with nbviewer.org.</b></div><div class=\"sk-container\" hidden><div class=\"sk-item\"><div class=\"sk-estimator sk-toggleable\"><input class=\"sk-toggleable__control sk-hidden--visually\" id=\"sk-estimator-id-1\" type=\"checkbox\" checked><label for=\"sk-estimator-id-1\" class=\"sk-toggleable__label sk-toggleable__label-arrow\">CountVectorizer</label><div class=\"sk-toggleable__content\"><pre>CountVectorizer()</pre></div></div></div></div></div>"
      ],
      "text/plain": [
       "CountVectorizer()"
      ]
     },
     "execution_count": 35,
     "metadata": {},
     "output_type": "execute_result"
    }
   ],
   "source": [
    "modelo_de_conteo=CountVectorizer()\n",
    "modelo_de_conteo.fit(df_texto_procesado_2)"
   ]
  },
  {
   "cell_type": "code",
   "execution_count": 36,
   "id": "6250611e",
   "metadata": {},
   "outputs": [
    {
     "data": {
      "text/plain": [
       "<1000x30330 sparse matrix of type '<class 'numpy.int64'>'\n",
       "\twith 121328 stored elements in Compressed Sparse Row format>"
      ]
     },
     "execution_count": 36,
     "metadata": {},
     "output_type": "execute_result"
    }
   ],
   "source": [
    "X_array=modelo_de_conteo.fit_transform(df_texto_procesado_2)\n",
    "X_array"
   ]
  },
  {
   "cell_type": "code",
   "execution_count": 37,
   "id": "f06902d4",
   "metadata": {},
   "outputs": [
    {
     "data": {
      "text/plain": [
       "(1000, 30330)"
      ]
     },
     "execution_count": 37,
     "metadata": {},
     "output_type": "execute_result"
    }
   ],
   "source": [
    "X_array.shape"
   ]
  },
  {
   "cell_type": "code",
   "execution_count": 38,
   "id": "6f94cffb",
   "metadata": {},
   "outputs": [
    {
     "name": "stdout",
     "output_type": "stream",
     "text": [
      "  (0, 3036)\t2\n",
      "  (0, 4202)\t1\n",
      "  (0, 6540)\t2\n",
      "  (0, 19351)\t4\n",
      "  (0, 17030)\t1\n",
      "  (0, 4941)\t2\n",
      "  (0, 4836)\t1\n",
      "  (0, 1097)\t1\n",
      "  (0, 4845)\t1\n",
      "  (0, 20530)\t3\n",
      "  (0, 14079)\t2\n",
      "  (0, 10709)\t3\n",
      "  (0, 26166)\t1\n",
      "  (0, 21594)\t2\n",
      "  (0, 14685)\t2\n",
      "  (0, 6732)\t2\n",
      "  (0, 934)\t2\n",
      "  (0, 29487)\t1\n",
      "  (0, 24466)\t1\n",
      "  (0, 19161)\t1\n",
      "  (0, 28289)\t2\n",
      "  (0, 19358)\t1\n",
      "  (0, 10848)\t1\n",
      "  (0, 9731)\t1\n",
      "  (0, 5225)\t2\n",
      "  :\t:\n",
      "  (999, 21338)\t1\n",
      "  (999, 25388)\t1\n",
      "  (999, 524)\t2\n",
      "  (999, 25945)\t3\n",
      "  (999, 5828)\t1\n",
      "  (999, 28018)\t1\n",
      "  (999, 196)\t1\n",
      "  (999, 16607)\t1\n",
      "  (999, 9986)\t1\n",
      "  (999, 23904)\t1\n",
      "  (999, 25606)\t1\n",
      "  (999, 28196)\t1\n",
      "  (999, 26557)\t1\n",
      "  (999, 17466)\t1\n",
      "  (999, 22128)\t1\n",
      "  (999, 12263)\t1\n",
      "  (999, 27038)\t3\n",
      "  (999, 3999)\t1\n",
      "  (999, 7263)\t1\n",
      "  (999, 26388)\t1\n",
      "  (999, 14392)\t1\n",
      "  (999, 14426)\t1\n",
      "  (999, 14829)\t1\n",
      "  (999, 20306)\t1\n",
      "  (999, 14357)\t1\n"
     ]
    }
   ],
   "source": [
    "print(X_array)"
   ]
  },
  {
   "cell_type": "code",
   "execution_count": 39,
   "id": "a032d1d2",
   "metadata": {},
   "outputs": [
    {
     "data": {
      "text/plain": [
       "'1.23.5'"
      ]
     },
     "execution_count": 39,
     "metadata": {},
     "output_type": "execute_result"
    }
   ],
   "source": [
    "# cual es mi version de numpy\n",
    "import numpy as np\n",
    "np.__version__"
   ]
  },
  {
   "cell_type": "code",
   "execution_count": 40,
   "id": "e0d2670c",
   "metadata": {},
   "outputs": [
    {
     "ename": "AttributeError",
     "evalue": "'NoneType' object has no attribute 'split'",
     "output_type": "error",
     "traceback": [
      "\u001b[1;31m---------------------------------------------------------------------------\u001b[0m",
      "\u001b[1;31mAttributeError\u001b[0m                            Traceback (most recent call last)",
      "\u001b[1;32mC:\\Users\\MIGUEL~1\\AppData\\Local\\Temp/ipykernel_12988/459515108.py\u001b[0m in \u001b[0;36m<module>\u001b[1;34m\u001b[0m\n\u001b[1;32m----> 1\u001b[1;33m \u001b[0mmodelo_agrupamiento\u001b[0m\u001b[1;33m=\u001b[0m\u001b[0mKMeans\u001b[0m\u001b[1;33m(\u001b[0m\u001b[0mn_clusters\u001b[0m\u001b[1;33m=\u001b[0m\u001b[1;36m3\u001b[0m\u001b[1;33m,\u001b[0m\u001b[0mrandom_state\u001b[0m\u001b[1;33m=\u001b[0m\u001b[1;36m0\u001b[0m\u001b[1;33m)\u001b[0m\u001b[1;33m.\u001b[0m\u001b[0mfit\u001b[0m\u001b[1;33m(\u001b[0m\u001b[0mX_array\u001b[0m\u001b[1;33m)\u001b[0m\u001b[1;33m\u001b[0m\u001b[1;33m\u001b[0m\u001b[0m\n\u001b[0m\u001b[0;32m      2\u001b[0m \u001b[1;31m#clusters=modelo_agrupamiento.fit(X_array)\u001b[0m\u001b[1;33m\u001b[0m\u001b[1;33m\u001b[0m\u001b[0m\n",
      "\u001b[1;32mc:\\Users\\Miguel Gomez\\anaconda3\\lib\\site-packages\\sklearn\\cluster\\_kmeans.py\u001b[0m in \u001b[0;36mfit\u001b[1;34m(self, X, y, sample_weight)\u001b[0m\n\u001b[0;32m   1413\u001b[0m \u001b[1;33m\u001b[0m\u001b[0m\n\u001b[0;32m   1414\u001b[0m             \u001b[1;31m# run a k-means once\u001b[0m\u001b[1;33m\u001b[0m\u001b[1;33m\u001b[0m\u001b[0m\n\u001b[1;32m-> 1415\u001b[1;33m             labels, inertia, centers, n_iter_ = kmeans_single(\n\u001b[0m\u001b[0;32m   1416\u001b[0m                 \u001b[0mX\u001b[0m\u001b[1;33m,\u001b[0m\u001b[1;33m\u001b[0m\u001b[1;33m\u001b[0m\u001b[0m\n\u001b[0;32m   1417\u001b[0m                 \u001b[0msample_weight\u001b[0m\u001b[1;33m,\u001b[0m\u001b[1;33m\u001b[0m\u001b[1;33m\u001b[0m\u001b[0m\n",
      "\u001b[1;32mc:\\Users\\Miguel Gomez\\anaconda3\\lib\\site-packages\\sklearn\\cluster\\_kmeans.py\u001b[0m in \u001b[0;36m_kmeans_single_lloyd\u001b[1;34m(X, sample_weight, centers_init, max_iter, verbose, x_squared_norms, tol, n_threads)\u001b[0m\n\u001b[0;32m    644\u001b[0m     \u001b[1;31m# Threadpoolctl context to limit the number of threads in second level of\u001b[0m\u001b[1;33m\u001b[0m\u001b[1;33m\u001b[0m\u001b[0m\n\u001b[0;32m    645\u001b[0m     \u001b[1;31m# nested parallelism (i.e. BLAS) to avoid oversubsciption.\u001b[0m\u001b[1;33m\u001b[0m\u001b[1;33m\u001b[0m\u001b[0m\n\u001b[1;32m--> 646\u001b[1;33m     \u001b[1;32mwith\u001b[0m \u001b[0mthreadpool_limits\u001b[0m\u001b[1;33m(\u001b[0m\u001b[0mlimits\u001b[0m\u001b[1;33m=\u001b[0m\u001b[1;36m1\u001b[0m\u001b[1;33m,\u001b[0m \u001b[0muser_api\u001b[0m\u001b[1;33m=\u001b[0m\u001b[1;34m\"blas\"\u001b[0m\u001b[1;33m)\u001b[0m\u001b[1;33m:\u001b[0m\u001b[1;33m\u001b[0m\u001b[1;33m\u001b[0m\u001b[0m\n\u001b[0m\u001b[0;32m    647\u001b[0m         \u001b[1;32mfor\u001b[0m \u001b[0mi\u001b[0m \u001b[1;32min\u001b[0m \u001b[0mrange\u001b[0m\u001b[1;33m(\u001b[0m\u001b[0mmax_iter\u001b[0m\u001b[1;33m)\u001b[0m\u001b[1;33m:\u001b[0m\u001b[1;33m\u001b[0m\u001b[1;33m\u001b[0m\u001b[0m\n\u001b[0;32m    648\u001b[0m             lloyd_iter(\n",
      "\u001b[1;32mc:\\Users\\Miguel Gomez\\anaconda3\\lib\\site-packages\\sklearn\\utils\\fixes.py\u001b[0m in \u001b[0;36mthreadpool_limits\u001b[1;34m(limits, user_api)\u001b[0m\n\u001b[0;32m    149\u001b[0m         \u001b[1;32mreturn\u001b[0m \u001b[0mcontroller\u001b[0m\u001b[1;33m.\u001b[0m\u001b[0mlimit\u001b[0m\u001b[1;33m(\u001b[0m\u001b[0mlimits\u001b[0m\u001b[1;33m=\u001b[0m\u001b[0mlimits\u001b[0m\u001b[1;33m,\u001b[0m \u001b[0muser_api\u001b[0m\u001b[1;33m=\u001b[0m\u001b[0muser_api\u001b[0m\u001b[1;33m)\u001b[0m\u001b[1;33m\u001b[0m\u001b[1;33m\u001b[0m\u001b[0m\n\u001b[0;32m    150\u001b[0m     \u001b[1;32melse\u001b[0m\u001b[1;33m:\u001b[0m\u001b[1;33m\u001b[0m\u001b[1;33m\u001b[0m\u001b[0m\n\u001b[1;32m--> 151\u001b[1;33m         \u001b[1;32mreturn\u001b[0m \u001b[0mthreadpoolctl\u001b[0m\u001b[1;33m.\u001b[0m\u001b[0mthreadpool_limits\u001b[0m\u001b[1;33m(\u001b[0m\u001b[0mlimits\u001b[0m\u001b[1;33m=\u001b[0m\u001b[0mlimits\u001b[0m\u001b[1;33m,\u001b[0m \u001b[0muser_api\u001b[0m\u001b[1;33m=\u001b[0m\u001b[0muser_api\u001b[0m\u001b[1;33m)\u001b[0m\u001b[1;33m\u001b[0m\u001b[1;33m\u001b[0m\u001b[0m\n\u001b[0m\u001b[0;32m    152\u001b[0m \u001b[1;33m\u001b[0m\u001b[0m\n\u001b[0;32m    153\u001b[0m \u001b[1;33m\u001b[0m\u001b[0m\n",
      "\u001b[1;32mc:\\Users\\Miguel Gomez\\anaconda3\\lib\\site-packages\\threadpoolctl.py\u001b[0m in \u001b[0;36m__init__\u001b[1;34m(self, limits, user_api)\u001b[0m\n\u001b[0;32m    169\u001b[0m             \u001b[0mself\u001b[0m\u001b[1;33m.\u001b[0m\u001b[0m_check_params\u001b[0m\u001b[1;33m(\u001b[0m\u001b[0mlimits\u001b[0m\u001b[1;33m,\u001b[0m \u001b[0muser_api\u001b[0m\u001b[1;33m)\u001b[0m\u001b[1;33m\u001b[0m\u001b[1;33m\u001b[0m\u001b[0m\n\u001b[0;32m    170\u001b[0m \u001b[1;33m\u001b[0m\u001b[0m\n\u001b[1;32m--> 171\u001b[1;33m         \u001b[0mself\u001b[0m\u001b[1;33m.\u001b[0m\u001b[0m_original_info\u001b[0m \u001b[1;33m=\u001b[0m \u001b[0mself\u001b[0m\u001b[1;33m.\u001b[0m\u001b[0m_set_threadpool_limits\u001b[0m\u001b[1;33m(\u001b[0m\u001b[1;33m)\u001b[0m\u001b[1;33m\u001b[0m\u001b[1;33m\u001b[0m\u001b[0m\n\u001b[0m\u001b[0;32m    172\u001b[0m \u001b[1;33m\u001b[0m\u001b[0m\n\u001b[0;32m    173\u001b[0m     \u001b[1;32mdef\u001b[0m \u001b[0m__enter__\u001b[0m\u001b[1;33m(\u001b[0m\u001b[0mself\u001b[0m\u001b[1;33m)\u001b[0m\u001b[1;33m:\u001b[0m\u001b[1;33m\u001b[0m\u001b[1;33m\u001b[0m\u001b[0m\n",
      "\u001b[1;32mc:\\Users\\Miguel Gomez\\anaconda3\\lib\\site-packages\\threadpoolctl.py\u001b[0m in \u001b[0;36m_set_threadpool_limits\u001b[1;34m(self)\u001b[0m\n\u001b[0;32m    266\u001b[0m             \u001b[1;32mreturn\u001b[0m \u001b[1;32mNone\u001b[0m\u001b[1;33m\u001b[0m\u001b[1;33m\u001b[0m\u001b[0m\n\u001b[0;32m    267\u001b[0m \u001b[1;33m\u001b[0m\u001b[0m\n\u001b[1;32m--> 268\u001b[1;33m         modules = _ThreadpoolInfo(prefixes=self._prefixes,\n\u001b[0m\u001b[0;32m    269\u001b[0m                                   user_api=self._user_api)\n\u001b[0;32m    270\u001b[0m         \u001b[1;32mfor\u001b[0m \u001b[0mmodule\u001b[0m \u001b[1;32min\u001b[0m \u001b[0mmodules\u001b[0m\u001b[1;33m:\u001b[0m\u001b[1;33m\u001b[0m\u001b[1;33m\u001b[0m\u001b[0m\n",
      "\u001b[1;32mc:\\Users\\Miguel Gomez\\anaconda3\\lib\\site-packages\\threadpoolctl.py\u001b[0m in \u001b[0;36m__init__\u001b[1;34m(self, user_api, prefixes, modules)\u001b[0m\n\u001b[0;32m    338\u001b[0m \u001b[1;33m\u001b[0m\u001b[0m\n\u001b[0;32m    339\u001b[0m             \u001b[0mself\u001b[0m\u001b[1;33m.\u001b[0m\u001b[0mmodules\u001b[0m \u001b[1;33m=\u001b[0m \u001b[1;33m[\u001b[0m\u001b[1;33m]\u001b[0m\u001b[1;33m\u001b[0m\u001b[1;33m\u001b[0m\u001b[0m\n\u001b[1;32m--> 340\u001b[1;33m             \u001b[0mself\u001b[0m\u001b[1;33m.\u001b[0m\u001b[0m_load_modules\u001b[0m\u001b[1;33m(\u001b[0m\u001b[1;33m)\u001b[0m\u001b[1;33m\u001b[0m\u001b[1;33m\u001b[0m\u001b[0m\n\u001b[0m\u001b[0;32m    341\u001b[0m             \u001b[0mself\u001b[0m\u001b[1;33m.\u001b[0m\u001b[0m_warn_if_incompatible_openmp\u001b[0m\u001b[1;33m(\u001b[0m\u001b[1;33m)\u001b[0m\u001b[1;33m\u001b[0m\u001b[1;33m\u001b[0m\u001b[0m\n\u001b[0;32m    342\u001b[0m         \u001b[1;32melse\u001b[0m\u001b[1;33m:\u001b[0m\u001b[1;33m\u001b[0m\u001b[1;33m\u001b[0m\u001b[0m\n",
      "\u001b[1;32mc:\\Users\\Miguel Gomez\\anaconda3\\lib\\site-packages\\threadpoolctl.py\u001b[0m in \u001b[0;36m_load_modules\u001b[1;34m(self)\u001b[0m\n\u001b[0;32m    371\u001b[0m             \u001b[0mself\u001b[0m\u001b[1;33m.\u001b[0m\u001b[0m_find_modules_with_dyld\u001b[0m\u001b[1;33m(\u001b[0m\u001b[1;33m)\u001b[0m\u001b[1;33m\u001b[0m\u001b[1;33m\u001b[0m\u001b[0m\n\u001b[0;32m    372\u001b[0m         \u001b[1;32melif\u001b[0m \u001b[0msys\u001b[0m\u001b[1;33m.\u001b[0m\u001b[0mplatform\u001b[0m \u001b[1;33m==\u001b[0m \u001b[1;34m\"win32\"\u001b[0m\u001b[1;33m:\u001b[0m\u001b[1;33m\u001b[0m\u001b[1;33m\u001b[0m\u001b[0m\n\u001b[1;32m--> 373\u001b[1;33m             \u001b[0mself\u001b[0m\u001b[1;33m.\u001b[0m\u001b[0m_find_modules_with_enum_process_module_ex\u001b[0m\u001b[1;33m(\u001b[0m\u001b[1;33m)\u001b[0m\u001b[1;33m\u001b[0m\u001b[1;33m\u001b[0m\u001b[0m\n\u001b[0m\u001b[0;32m    374\u001b[0m         \u001b[1;32melse\u001b[0m\u001b[1;33m:\u001b[0m\u001b[1;33m\u001b[0m\u001b[1;33m\u001b[0m\u001b[0m\n\u001b[0;32m    375\u001b[0m             \u001b[0mself\u001b[0m\u001b[1;33m.\u001b[0m\u001b[0m_find_modules_with_dl_iterate_phdr\u001b[0m\u001b[1;33m(\u001b[0m\u001b[1;33m)\u001b[0m\u001b[1;33m\u001b[0m\u001b[1;33m\u001b[0m\u001b[0m\n",
      "\u001b[1;32mc:\\Users\\Miguel Gomez\\anaconda3\\lib\\site-packages\\threadpoolctl.py\u001b[0m in \u001b[0;36m_find_modules_with_enum_process_module_ex\u001b[1;34m(self)\u001b[0m\n\u001b[0;32m    483\u001b[0m \u001b[1;33m\u001b[0m\u001b[0m\n\u001b[0;32m    484\u001b[0m                 \u001b[1;31m# Store the module if it is supported and selected\u001b[0m\u001b[1;33m\u001b[0m\u001b[1;33m\u001b[0m\u001b[0m\n\u001b[1;32m--> 485\u001b[1;33m                 \u001b[0mself\u001b[0m\u001b[1;33m.\u001b[0m\u001b[0m_make_module_from_path\u001b[0m\u001b[1;33m(\u001b[0m\u001b[0mfilepath\u001b[0m\u001b[1;33m)\u001b[0m\u001b[1;33m\u001b[0m\u001b[1;33m\u001b[0m\u001b[0m\n\u001b[0m\u001b[0;32m    486\u001b[0m         \u001b[1;32mfinally\u001b[0m\u001b[1;33m:\u001b[0m\u001b[1;33m\u001b[0m\u001b[1;33m\u001b[0m\u001b[0m\n\u001b[0;32m    487\u001b[0m             \u001b[0mkernel_32\u001b[0m\u001b[1;33m.\u001b[0m\u001b[0mCloseHandle\u001b[0m\u001b[1;33m(\u001b[0m\u001b[0mh_process\u001b[0m\u001b[1;33m)\u001b[0m\u001b[1;33m\u001b[0m\u001b[1;33m\u001b[0m\u001b[0m\n",
      "\u001b[1;32mc:\\Users\\Miguel Gomez\\anaconda3\\lib\\site-packages\\threadpoolctl.py\u001b[0m in \u001b[0;36m_make_module_from_path\u001b[1;34m(self, filepath)\u001b[0m\n\u001b[0;32m    513\u001b[0m             \u001b[1;32mif\u001b[0m \u001b[0mprefix\u001b[0m \u001b[1;32min\u001b[0m \u001b[0mself\u001b[0m\u001b[1;33m.\u001b[0m\u001b[0mprefixes\u001b[0m \u001b[1;32mor\u001b[0m \u001b[0muser_api\u001b[0m \u001b[1;32min\u001b[0m \u001b[0mself\u001b[0m\u001b[1;33m.\u001b[0m\u001b[0muser_api\u001b[0m\u001b[1;33m:\u001b[0m\u001b[1;33m\u001b[0m\u001b[1;33m\u001b[0m\u001b[0m\n\u001b[0;32m    514\u001b[0m                 \u001b[0mmodule_class\u001b[0m \u001b[1;33m=\u001b[0m \u001b[0mglobals\u001b[0m\u001b[1;33m(\u001b[0m\u001b[1;33m)\u001b[0m\u001b[1;33m[\u001b[0m\u001b[0mmodule_class\u001b[0m\u001b[1;33m]\u001b[0m\u001b[1;33m\u001b[0m\u001b[1;33m\u001b[0m\u001b[0m\n\u001b[1;32m--> 515\u001b[1;33m                 \u001b[0mmodule\u001b[0m \u001b[1;33m=\u001b[0m \u001b[0mmodule_class\u001b[0m\u001b[1;33m(\u001b[0m\u001b[0mfilepath\u001b[0m\u001b[1;33m,\u001b[0m \u001b[0mprefix\u001b[0m\u001b[1;33m,\u001b[0m \u001b[0muser_api\u001b[0m\u001b[1;33m,\u001b[0m \u001b[0minternal_api\u001b[0m\u001b[1;33m)\u001b[0m\u001b[1;33m\u001b[0m\u001b[1;33m\u001b[0m\u001b[0m\n\u001b[0m\u001b[0;32m    516\u001b[0m                 \u001b[0mself\u001b[0m\u001b[1;33m.\u001b[0m\u001b[0mmodules\u001b[0m\u001b[1;33m.\u001b[0m\u001b[0mappend\u001b[0m\u001b[1;33m(\u001b[0m\u001b[0mmodule\u001b[0m\u001b[1;33m)\u001b[0m\u001b[1;33m\u001b[0m\u001b[1;33m\u001b[0m\u001b[0m\n\u001b[0;32m    517\u001b[0m \u001b[1;33m\u001b[0m\u001b[0m\n",
      "\u001b[1;32mc:\\Users\\Miguel Gomez\\anaconda3\\lib\\site-packages\\threadpoolctl.py\u001b[0m in \u001b[0;36m__init__\u001b[1;34m(self, filepath, prefix, user_api, internal_api)\u001b[0m\n\u001b[0;32m    604\u001b[0m         \u001b[0mself\u001b[0m\u001b[1;33m.\u001b[0m\u001b[0minternal_api\u001b[0m \u001b[1;33m=\u001b[0m \u001b[0minternal_api\u001b[0m\u001b[1;33m\u001b[0m\u001b[1;33m\u001b[0m\u001b[0m\n\u001b[0;32m    605\u001b[0m         \u001b[0mself\u001b[0m\u001b[1;33m.\u001b[0m\u001b[0m_dynlib\u001b[0m \u001b[1;33m=\u001b[0m \u001b[0mctypes\u001b[0m\u001b[1;33m.\u001b[0m\u001b[0mCDLL\u001b[0m\u001b[1;33m(\u001b[0m\u001b[0mfilepath\u001b[0m\u001b[1;33m,\u001b[0m \u001b[0mmode\u001b[0m\u001b[1;33m=\u001b[0m\u001b[0m_RTLD_NOLOAD\u001b[0m\u001b[1;33m)\u001b[0m\u001b[1;33m\u001b[0m\u001b[1;33m\u001b[0m\u001b[0m\n\u001b[1;32m--> 606\u001b[1;33m         \u001b[0mself\u001b[0m\u001b[1;33m.\u001b[0m\u001b[0mversion\u001b[0m \u001b[1;33m=\u001b[0m \u001b[0mself\u001b[0m\u001b[1;33m.\u001b[0m\u001b[0mget_version\u001b[0m\u001b[1;33m(\u001b[0m\u001b[1;33m)\u001b[0m\u001b[1;33m\u001b[0m\u001b[1;33m\u001b[0m\u001b[0m\n\u001b[0m\u001b[0;32m    607\u001b[0m         \u001b[0mself\u001b[0m\u001b[1;33m.\u001b[0m\u001b[0mnum_threads\u001b[0m \u001b[1;33m=\u001b[0m \u001b[0mself\u001b[0m\u001b[1;33m.\u001b[0m\u001b[0mget_num_threads\u001b[0m\u001b[1;33m(\u001b[0m\u001b[1;33m)\u001b[0m\u001b[1;33m\u001b[0m\u001b[1;33m\u001b[0m\u001b[0m\n\u001b[0;32m    608\u001b[0m         \u001b[0mself\u001b[0m\u001b[1;33m.\u001b[0m\u001b[0m_get_extra_info\u001b[0m\u001b[1;33m(\u001b[0m\u001b[1;33m)\u001b[0m\u001b[1;33m\u001b[0m\u001b[1;33m\u001b[0m\u001b[0m\n",
      "\u001b[1;32mc:\\Users\\Miguel Gomez\\anaconda3\\lib\\site-packages\\threadpoolctl.py\u001b[0m in \u001b[0;36mget_version\u001b[1;34m(self)\u001b[0m\n\u001b[0;32m    644\u001b[0m                              lambda: None)\n\u001b[0;32m    645\u001b[0m         \u001b[0mget_config\u001b[0m\u001b[1;33m.\u001b[0m\u001b[0mrestype\u001b[0m \u001b[1;33m=\u001b[0m \u001b[0mctypes\u001b[0m\u001b[1;33m.\u001b[0m\u001b[0mc_char_p\u001b[0m\u001b[1;33m\u001b[0m\u001b[1;33m\u001b[0m\u001b[0m\n\u001b[1;32m--> 646\u001b[1;33m         \u001b[0mconfig\u001b[0m \u001b[1;33m=\u001b[0m \u001b[0mget_config\u001b[0m\u001b[1;33m(\u001b[0m\u001b[1;33m)\u001b[0m\u001b[1;33m.\u001b[0m\u001b[0msplit\u001b[0m\u001b[1;33m(\u001b[0m\u001b[1;33m)\u001b[0m\u001b[1;33m\u001b[0m\u001b[1;33m\u001b[0m\u001b[0m\n\u001b[0m\u001b[0;32m    647\u001b[0m         \u001b[1;32mif\u001b[0m \u001b[0mconfig\u001b[0m\u001b[1;33m[\u001b[0m\u001b[1;36m0\u001b[0m\u001b[1;33m]\u001b[0m \u001b[1;33m==\u001b[0m \u001b[1;34mb\"OpenBLAS\"\u001b[0m\u001b[1;33m:\u001b[0m\u001b[1;33m\u001b[0m\u001b[1;33m\u001b[0m\u001b[0m\n\u001b[0;32m    648\u001b[0m             \u001b[1;32mreturn\u001b[0m \u001b[0mconfig\u001b[0m\u001b[1;33m[\u001b[0m\u001b[1;36m1\u001b[0m\u001b[1;33m]\u001b[0m\u001b[1;33m.\u001b[0m\u001b[0mdecode\u001b[0m\u001b[1;33m(\u001b[0m\u001b[1;34m\"utf-8\"\u001b[0m\u001b[1;33m)\u001b[0m\u001b[1;33m\u001b[0m\u001b[1;33m\u001b[0m\u001b[0m\n",
      "\u001b[1;31mAttributeError\u001b[0m: 'NoneType' object has no attribute 'split'"
     ]
    }
   ],
   "source": [
    "modelo_agrupamiento=KMeans(n_clusters=3,random_state=0).fit(X_array)\n",
    "#clusters=modelo_agrupamiento.fit(X_array)"
   ]
  },
  {
   "cell_type": "code",
   "execution_count": 1,
   "id": "99421aa9",
   "metadata": {},
   "outputs": [
    {
     "name": "stderr",
     "output_type": "stream",
     "text": [
      "C:\\Users\\Miguel Gomez\\anaconda3\\lib\\site-packages\\scipy\\__init__.py:146: UserWarning: A NumPy version >=1.16.5 and <1.23.0 is required for this version of SciPy (detected version 1.23.5\n",
      "  warnings.warn(f\"A NumPy version >={np_minversion} and <{np_maxversion}\"\n"
     ]
    },
    {
     "name": "stdout",
     "output_type": "stream",
     "text": [
      "threadpoolctl==2.2.0\n",
      "numpy==1.23.5\n",
      "sklearn==1.1.1\n"
     ]
    }
   ],
   "source": [
    "import threadpoolctl\n",
    "import numpy\n",
    "import sklearn\n",
    "print('\\n'.join(f'{m.__name__}=={m.__version__}' for m in globals().values() if getattr(m, '__version__', None)))"
   ]
  }
 ],
 "metadata": {
  "kernelspec": {
   "display_name": "Python 3 (ipykernel)",
   "language": "python",
   "name": "python3"
  },
  "language_info": {
   "codemirror_mode": {
    "name": "ipython",
    "version": 3
   },
   "file_extension": ".py",
   "mimetype": "text/x-python",
   "name": "python",
   "nbconvert_exporter": "python",
   "pygments_lexer": "ipython3",
   "version": "3.9.7"
  },
  "vscode": {
   "interpreter": {
    "hash": "43dbe3687308bc9f9b1170eeda74f2f07b7727c21844e39cf70f913d86551339"
   }
  }
 },
 "nbformat": 4,
 "nbformat_minor": 5
}
