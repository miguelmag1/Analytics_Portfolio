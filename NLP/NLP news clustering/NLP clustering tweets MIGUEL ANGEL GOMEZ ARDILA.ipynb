{
 "cells": [
  {
   "cell_type": "markdown",
   "id": "4ed07296",
   "metadata": {},
   "source": [
    "Miguel Angel Gomez<Br>"
   ]
  },
  {
   "cell_type": "markdown",
   "id": "04c8ff74",
   "metadata": {},
   "source": [
    "**Importando paquetes**"
   ]
  },
  {
   "cell_type": "code",
   "execution_count": 1,
   "id": "1313e342",
   "metadata": {},
   "outputs": [
    {
     "name": "stderr",
     "output_type": "stream",
     "text": [
      "[nltk_data] Downloading package averaged_perceptron_tagger to\n",
      "[nltk_data]     C:\\Users\\Miguel Gomez\\AppData\\Roaming\\nltk_data...\n",
      "[nltk_data]   Package averaged_perceptron_tagger is already up-to-\n",
      "[nltk_data]       date!\n"
     ]
    }
   ],
   "source": [
    "import pandas as pd\n",
    "import nltk\n",
    "nltk.download('averaged_perceptron_tagger')\n",
    "import fitz #paquete para la lectura de pdf\n",
    "import matplotlib.pyplot as plt\n",
    "from stop_words import get_stop_words\n",
    "import re\n",
    "from nltk import SnowballStemmer\n",
    "import spacy\n",
    "import spacy_spanish_lemmatizer\n",
    "from nltk.stem import WordNetLemmatizer \n",
    "from nltk.corpus import wordnet\n",
    "from wordcloud import WordCloud, ImageColorGenerator\n",
    "from stop_words import get_stop_words\n",
    "from collections import defaultdict\n",
    "nlp=spacy.load('es_core_news_sm')\n",
    "from spacy import displacy\n",
    "import string\n",
    "string.punctuation\n",
    "from nltk.tokenize import word_tokenize\n",
    "\n",
    "\n",
    "from sklearn import svm\n",
    "from sklearn.feature_extraction.text import CountVectorizer\n",
    "from sklearn.model_selection import train_test_split\n",
    "from sklearn.model_selection import GridSearchCV\n",
    "from sklearn.metrics import confusion_matrix\n",
    "from sklearn.feature_extraction.text import TfidfVectorizer\n",
    "from sklearn.feature_extraction import DictVectorizer\n",
    "from sklearn.linear_model import LogisticRegression\n",
    "from sklearn.metrics import classification_report\n",
    "from sklearn.naive_bayes import GaussianNB \n",
    "from sklearn.feature_selection import SelectKBest\n",
    "from sklearn.ensemble import RandomForestClassifier\n",
    "from sklearn.datasets import make_classification\n",
    "from sklearn.cluster import KMeans"
   ]
  },
  {
   "cell_type": "markdown",
   "id": "1995d5bc",
   "metadata": {},
   "source": [
    "Importando dataframe"
   ]
  },
  {
   "cell_type": "code",
   "execution_count": 2,
   "id": "d9b7d1ae",
   "metadata": {},
   "outputs": [
    {
     "data": {
      "text/html": [
       "<div>\n",
       "<style scoped>\n",
       "    .dataframe tbody tr th:only-of-type {\n",
       "        vertical-align: middle;\n",
       "    }\n",
       "\n",
       "    .dataframe tbody tr th {\n",
       "        vertical-align: top;\n",
       "    }\n",
       "\n",
       "    .dataframe thead th {\n",
       "        text-align: right;\n",
       "    }\n",
       "</style>\n",
       "<table border=\"1\" class=\"dataframe\">\n",
       "  <thead>\n",
       "    <tr style=\"text-align: right;\">\n",
       "      <th></th>\n",
       "      <th>Columna1</th>\n",
       "      <th>Enlaces</th>\n",
       "      <th>Título</th>\n",
       "      <th>info</th>\n",
       "      <th>contenido</th>\n",
       "      <th>Etiqueta</th>\n",
       "    </tr>\n",
       "  </thead>\n",
       "  <tbody>\n",
       "    <tr>\n",
       "      <th>0</th>\n",
       "      <td>0</td>\n",
       "      <td>https://www.eltiempo.com/agresion-contra-un-op...</td>\n",
       "      <td>Operador de grúa quedó inconsciente tras agres...</td>\n",
       "      <td>El conductor de una moto le lanzó el casco y p...</td>\n",
       "      <td>Las autoridades están buscando al conductor de...</td>\n",
       "      <td>colombia</td>\n",
       "    </tr>\n",
       "    <tr>\n",
       "      <th>1</th>\n",
       "      <td>1</td>\n",
       "      <td>https://www.eltiempo.com/archivo/documento/CMS...</td>\n",
       "      <td>Usaquén, primera en infracciones por mal parqueo</td>\n",
       "      <td>La localidad ocupa el primer lugar en comparen...</td>\n",
       "      <td>\"Los andenes son para los peatones\", reclama e...</td>\n",
       "      <td>archivo</td>\n",
       "    </tr>\n",
       "    <tr>\n",
       "      <th>2</th>\n",
       "      <td>2</td>\n",
       "      <td>https://www.eltiempo.com/archivo/documento/CMS...</td>\n",
       "      <td>'Me atracaron y vi un arma que me heló la sang...</td>\n",
       "      <td>Un ciudadano relata cómo cuatro hombres lo rob...</td>\n",
       "      <td>A las 7 de la noche me había quedado de encont...</td>\n",
       "      <td>archivo</td>\n",
       "    </tr>\n",
       "    <tr>\n",
       "      <th>3</th>\n",
       "      <td>3</td>\n",
       "      <td>https://www.eltiempo.com/archivo/documento/CMS...</td>\n",
       "      <td>Escoltas mal estacionados, dolor de cabeza de ...</td>\n",
       "      <td>Las zonas de restaurantes se convierten en par...</td>\n",
       "      <td>Atravesados. Eso es lo que se les pasa por la ...</td>\n",
       "      <td>archivo</td>\n",
       "    </tr>\n",
       "    <tr>\n",
       "      <th>4</th>\n",
       "      <td>4</td>\n",
       "      <td>https://www.eltiempo.com/archivo/documento/CMS...</td>\n",
       "      <td>Radicado primer proyecto que autorizaría union...</td>\n",
       "      <td>El representante de 'la U', Miguel Gómez, dijo...</td>\n",
       "      <td>“Estamos proponiendo la figura de un contrato ...</td>\n",
       "      <td>archivo</td>\n",
       "    </tr>\n",
       "    <tr>\n",
       "      <th>...</th>\n",
       "      <td>...</td>\n",
       "      <td>...</td>\n",
       "      <td>...</td>\n",
       "      <td>...</td>\n",
       "      <td>...</td>\n",
       "      <td>...</td>\n",
       "    </tr>\n",
       "    <tr>\n",
       "      <th>14391</th>\n",
       "      <td>14391</td>\n",
       "      <td>https://www.eltiempo.com/vida/viajar/una-viaje...</td>\n",
       "      <td>Una viajera pensó que la aerolínea Viva Air le...</td>\n",
       "      <td>La mujer hizo la denuncia en redes. La aerolín...</td>\n",
       "      <td>En Twitter es tendencia 'FCAS' por una denunci...</td>\n",
       "      <td>vida</td>\n",
       "    </tr>\n",
       "    <tr>\n",
       "      <th>14392</th>\n",
       "      <td>14392</td>\n",
       "      <td>https://www.eltiempo.com/vida/viajar/un-dia-pe...</td>\n",
       "      <td>Un día perfecto en Coco Cay, la isla privada d...</td>\n",
       "      <td>El proyecto Global Private Island Collection c...</td>\n",
       "      <td>La naviera internacional Royal Caribbean prese...</td>\n",
       "      <td>vida</td>\n",
       "    </tr>\n",
       "    <tr>\n",
       "      <th>14393</th>\n",
       "      <td>14393</td>\n",
       "      <td>https://www.eltiempo.com/vida/viajar/visitar-b...</td>\n",
       "      <td>Barú: el paraíso colombiano abierto para todos...</td>\n",
       "      <td>Cuatro hoteles y el Aviario Nacional lanzarán ...</td>\n",
       "      <td>¿Necesita razones para ir a Barú? A menos de u...</td>\n",
       "      <td>vida</td>\n",
       "    </tr>\n",
       "    <tr>\n",
       "      <th>14394</th>\n",
       "      <td>14394</td>\n",
       "      <td>https://www.eltiempo.com/vida/viajar/we-trade-...</td>\n",
       "      <td>Con WeTrade, llega la hora LGBT a Bogotá</td>\n",
       "      <td>El 1 y 2 de noviembre se celebrará esta Feria ...</td>\n",
       "      <td>Se estima que la población LGTBI en Colombia e...</td>\n",
       "      <td>vida</td>\n",
       "    </tr>\n",
       "    <tr>\n",
       "      <th>14395</th>\n",
       "      <td>14395</td>\n",
       "      <td>https://www.eltiempo.com/vida/viajar/yovoy-cam...</td>\n",
       "      <td>#YoVoy, una invitación a viajar por Colombia</td>\n",
       "      <td>El presidente Duque lanzó la campaña nacional ...</td>\n",
       "      <td>Con la intención de que los colombianos conozc...</td>\n",
       "      <td>vida</td>\n",
       "    </tr>\n",
       "  </tbody>\n",
       "</table>\n",
       "<p>14396 rows × 6 columns</p>\n",
       "</div>"
      ],
      "text/plain": [
       "       Columna1                                            Enlaces  \\\n",
       "0             0  https://www.eltiempo.com/agresion-contra-un-op...   \n",
       "1             1  https://www.eltiempo.com/archivo/documento/CMS...   \n",
       "2             2  https://www.eltiempo.com/archivo/documento/CMS...   \n",
       "3             3  https://www.eltiempo.com/archivo/documento/CMS...   \n",
       "4             4  https://www.eltiempo.com/archivo/documento/CMS...   \n",
       "...         ...                                                ...   \n",
       "14391     14391  https://www.eltiempo.com/vida/viajar/una-viaje...   \n",
       "14392     14392  https://www.eltiempo.com/vida/viajar/un-dia-pe...   \n",
       "14393     14393  https://www.eltiempo.com/vida/viajar/visitar-b...   \n",
       "14394     14394  https://www.eltiempo.com/vida/viajar/we-trade-...   \n",
       "14395     14395  https://www.eltiempo.com/vida/viajar/yovoy-cam...   \n",
       "\n",
       "                                                  Título  \\\n",
       "0      Operador de grúa quedó inconsciente tras agres...   \n",
       "1       Usaquén, primera en infracciones por mal parqueo   \n",
       "2      'Me atracaron y vi un arma que me heló la sang...   \n",
       "3      Escoltas mal estacionados, dolor de cabeza de ...   \n",
       "4      Radicado primer proyecto que autorizaría union...   \n",
       "...                                                  ...   \n",
       "14391  Una viajera pensó que la aerolínea Viva Air le...   \n",
       "14392  Un día perfecto en Coco Cay, la isla privada d...   \n",
       "14393  Barú: el paraíso colombiano abierto para todos...   \n",
       "14394           Con WeTrade, llega la hora LGBT a Bogotá   \n",
       "14395       #YoVoy, una invitación a viajar por Colombia   \n",
       "\n",
       "                                                    info  \\\n",
       "0      El conductor de una moto le lanzó el casco y p...   \n",
       "1      La localidad ocupa el primer lugar en comparen...   \n",
       "2      Un ciudadano relata cómo cuatro hombres lo rob...   \n",
       "3      Las zonas de restaurantes se convierten en par...   \n",
       "4      El representante de 'la U', Miguel Gómez, dijo...   \n",
       "...                                                  ...   \n",
       "14391  La mujer hizo la denuncia en redes. La aerolín...   \n",
       "14392  El proyecto Global Private Island Collection c...   \n",
       "14393  Cuatro hoteles y el Aviario Nacional lanzarán ...   \n",
       "14394  El 1 y 2 de noviembre se celebrará esta Feria ...   \n",
       "14395  El presidente Duque lanzó la campaña nacional ...   \n",
       "\n",
       "                                               contenido  Etiqueta  \n",
       "0      Las autoridades están buscando al conductor de...  colombia  \n",
       "1      \"Los andenes son para los peatones\", reclama e...   archivo  \n",
       "2      A las 7 de la noche me había quedado de encont...   archivo  \n",
       "3      Atravesados. Eso es lo que se les pasa por la ...   archivo  \n",
       "4      “Estamos proponiendo la figura de un contrato ...   archivo  \n",
       "...                                                  ...       ...  \n",
       "14391  En Twitter es tendencia 'FCAS' por una denunci...      vida  \n",
       "14392  La naviera internacional Royal Caribbean prese...      vida  \n",
       "14393  ¿Necesita razones para ir a Barú? A menos de u...      vida  \n",
       "14394  Se estima que la población LGTBI en Colombia e...      vida  \n",
       "14395  Con la intención de que los colombianos conozc...      vida  \n",
       "\n",
       "[14396 rows x 6 columns]"
      ]
     },
     "execution_count": 2,
     "metadata": {},
     "output_type": "execute_result"
    }
   ],
   "source": [
    "Noticias= pd.read_excel(\"Noticias.xlsx\")\n",
    "Noticias"
   ]
  },
  {
   "cell_type": "markdown",
   "id": "63d94145",
   "metadata": {},
   "source": [
    "Visualizando variables del dataset Noticias"
   ]
  },
  {
   "cell_type": "code",
   "execution_count": 3,
   "id": "a235ea7c",
   "metadata": {},
   "outputs": [
    {
     "name": "stdout",
     "output_type": "stream",
     "text": [
      "<class 'pandas.core.frame.DataFrame'>\n",
      "RangeIndex: 14396 entries, 0 to 14395\n",
      "Data columns (total 6 columns):\n",
      " #   Column     Non-Null Count  Dtype \n",
      "---  ------     --------------  ----- \n",
      " 0   Columna1   14396 non-null  int64 \n",
      " 1   Enlaces    14396 non-null  object\n",
      " 2   Título     14378 non-null  object\n",
      " 3   info       11483 non-null  object\n",
      " 4   contenido  13738 non-null  object\n",
      " 5   Etiqueta   14396 non-null  object\n",
      "dtypes: int64(1), object(5)\n",
      "memory usage: 674.9+ KB\n"
     ]
    }
   ],
   "source": [
    "Noticias.info()"
   ]
  },
  {
   "cell_type": "markdown",
   "id": "65e8d02c",
   "metadata": {},
   "source": [
    "**Funciones de limpieza de datos**"
   ]
  },
  {
   "cell_type": "code",
   "execution_count": 4,
   "id": "85a94260",
   "metadata": {},
   "outputs": [],
   "source": [
    "stop_words_español=get_stop_words('es') #obteniendo stop words en español"
   ]
  },
  {
   "cell_type": "code",
   "execution_count": 5,
   "id": "81ae5be0",
   "metadata": {},
   "outputs": [],
   "source": [
    "# función para quitar stopwords\n",
    "\n",
    "def quitar_stopwords(texto):\n",
    "    texto = \" \".join([palabra for palabra in texto.split() if palabra not in stop_words_español])\n",
    "    return texto"
   ]
  },
  {
   "cell_type": "code",
   "execution_count": 6,
   "id": "32b4f724",
   "metadata": {},
   "outputs": [],
   "source": [
    "# funcion para quitar numeros de un txt\n",
    "\n",
    "def quitar_numeros_txt(texto):\n",
    "    texto = re.sub(r'\\d+', '', texto)\n",
    "    return texto\n"
   ]
  },
  {
   "cell_type": "code",
   "execution_count": 7,
   "id": "864b003d",
   "metadata": {},
   "outputs": [],
   "source": [
    "# Funcion para quitar quitar palabras despues de una palabra especifica\n",
    "# esta función es de las mas importantes porque permite hacer la limpieza de las colillas de anuncios pegadas a las noticias \n",
    "def quitar_palabra_despues(texto, palabra):\n",
    "    texto = texto.split(palabra, 1)[0]\n",
    "    return texto"
   ]
  },
  {
   "cell_type": "code",
   "execution_count": 8,
   "id": "ba047cf1",
   "metadata": {},
   "outputs": [],
   "source": [
    "# Lista de palabras especiales para eliminar con la funcion quitarpalabra_despues\n",
    "lista_de_palabras_patron = [\"REDACCIÓN\",\"Redacción Bogotá\",\n",
    "                            \"PORTAFOLIO\",\"Valle del Cauca 07:50\",\n",
    "                            \"FRASES\",\"ROMA\",\"JUSTICIA\", \"BOCAS\",\n",
    "                            \"REVISTA\", \"BOGOTÁ\",\"carrusel\",\n",
    "                            \"NACIÓN\",\"CULTURA\",\"ENTRETENIMIENTO\",\"11:19\"]"
   ]
  },
  {
   "cell_type": "code",
   "execution_count": 9,
   "id": "f3ce8f2e",
   "metadata": {},
   "outputs": [],
   "source": [
    "# delete worlds since a specific word\n",
    "\n",
    "def quitar_palabras_despues(texto, lista_de_palabras_patron):\n",
    "    for palabra in lista_de_palabras_patron:\n",
    "        texto = quitar_palabra_despues(texto, palabra)\n",
    "    return texto"
   ]
  },
  {
   "cell_type": "code",
   "execution_count": 10,
   "id": "d3d5a0c1",
   "metadata": {},
   "outputs": [],
   "source": [
    "# convertir en formato string Noticias['contenido']\n",
    "Noticias['contenido']=Noticias['contenido'].astype(str)"
   ]
  },
  {
   "cell_type": "code",
   "execution_count": 11,
   "id": "e986c40e",
   "metadata": {},
   "outputs": [],
   "source": [
    "#pasar a string la columna Noticias['contenido']\n",
    "Noticias['contenido_cl']=Noticias['contenido']\n",
    "# se aplica la funcion quitar palabras en un ciclo for \n",
    "for palabra in lista_de_palabras_patron:\n",
    "    \n",
    "    Noticias['contenido_cl']=Noticias['contenido_cl'].apply(lambda texto: quitar_palabra_despues(texto, palabra))"
   ]
  },
  {
   "cell_type": "code",
   "execution_count": 12,
   "id": "73321a80",
   "metadata": {},
   "outputs": [],
   "source": [
    "# SE CREA LA FUNCION QUE PERMITE CONTAR PALABRAS EN UNA COLUMNA DE UN DF\n",
    "def contar_palabras(texto):\n",
    "    texto = texto.split()\n",
    "    return len(texto)"
   ]
  },
  {
   "cell_type": "code",
   "execution_count": 13,
   "id": "6ba79a0a",
   "metadata": {},
   "outputs": [],
   "source": [
    "# aplicando la funcion que me permite contar el numero de palabras en la columna de contenido la cual no ha sido limpiada\n",
    "Noticias['cantidad_de_palabras_contenido']=Noticias['contenido'].apply(lambda texto: contar_palabras(texto))"
   ]
  },
  {
   "cell_type": "code",
   "execution_count": 14,
   "id": "8d4e9927",
   "metadata": {},
   "outputs": [],
   "source": [
    "# aplicando la funcion para que me cuente el numero de palabras en la columna de contenido_cl la cual ya ha sido limpiada\n",
    "\n",
    "Noticias['cantidad_de_palabras_contenido_cl']=Noticias['contenido_cl'].apply(lambda texto: contar_palabras(texto))"
   ]
  },
  {
   "cell_type": "code",
   "execution_count": 15,
   "id": "4c283a58",
   "metadata": {},
   "outputs": [],
   "source": [
    "# comparar el numero de palabras en la columna de contenido_cl con el numero de palabras en la columna de contenido\n",
    "\n",
    "Noticias['diferencia_palabras']=Noticias['cantidad_de_palabras_contenido']-Noticias['cantidad_de_palabras_contenido_cl']"
   ]
  },
  {
   "cell_type": "code",
   "execution_count": 16,
   "id": "66ab56db",
   "metadata": {},
   "outputs": [
    {
     "data": {
      "text/html": [
       "<div>\n",
       "<style scoped>\n",
       "    .dataframe tbody tr th:only-of-type {\n",
       "        vertical-align: middle;\n",
       "    }\n",
       "\n",
       "    .dataframe tbody tr th {\n",
       "        vertical-align: top;\n",
       "    }\n",
       "\n",
       "    .dataframe thead th {\n",
       "        text-align: right;\n",
       "    }\n",
       "</style>\n",
       "<table border=\"1\" class=\"dataframe\">\n",
       "  <thead>\n",
       "    <tr style=\"text-align: right;\">\n",
       "      <th></th>\n",
       "      <th>Columna1</th>\n",
       "      <th>Enlaces</th>\n",
       "      <th>Título</th>\n",
       "      <th>info</th>\n",
       "      <th>contenido</th>\n",
       "      <th>Etiqueta</th>\n",
       "      <th>contenido_cl</th>\n",
       "      <th>cantidad_de_palabras_contenido</th>\n",
       "      <th>cantidad_de_palabras_contenido_cl</th>\n",
       "      <th>diferencia_palabras</th>\n",
       "    </tr>\n",
       "  </thead>\n",
       "  <tbody>\n",
       "    <tr>\n",
       "      <th>30</th>\n",
       "      <td>30</td>\n",
       "      <td>https://www.eltiempo.com/archivo/documento/CMS...</td>\n",
       "      <td>Sabella será presentado el sábado como nuevo s...</td>\n",
       "      <td>NaN</td>\n",
       "      <td>nan</td>\n",
       "      <td>archivo</td>\n",
       "      <td>nan</td>\n",
       "      <td>1</td>\n",
       "      <td>1</td>\n",
       "      <td>0</td>\n",
       "    </tr>\n",
       "    <tr>\n",
       "      <th>31</th>\n",
       "      <td>31</td>\n",
       "      <td>https://www.eltiempo.com/archivo/documento/CMS...</td>\n",
       "      <td>'Bolillo' Gómez se disculpa por agredir a muje...</td>\n",
       "      <td>NaN</td>\n",
       "      <td>nan</td>\n",
       "      <td>archivo</td>\n",
       "      <td>nan</td>\n",
       "      <td>1</td>\n",
       "      <td>1</td>\n",
       "      <td>0</td>\n",
       "    </tr>\n",
       "    <tr>\n",
       "      <th>32</th>\n",
       "      <td>32</td>\n",
       "      <td>https://www.eltiempo.com/archivo/documento/CMS...</td>\n",
       "      <td>Lo de 'Bolillo', un golpe bajo para el fútbol ...</td>\n",
       "      <td>NaN</td>\n",
       "      <td>nan</td>\n",
       "      <td>archivo</td>\n",
       "      <td>nan</td>\n",
       "      <td>1</td>\n",
       "      <td>1</td>\n",
       "      <td>0</td>\n",
       "    </tr>\n",
       "    <tr>\n",
       "      <th>33</th>\n",
       "      <td>33</td>\n",
       "      <td>https://www.eltiempo.com/archivo/documento/CMS...</td>\n",
       "      <td>No para mala fortuna del DIM: William Arboleda...</td>\n",
       "      <td>NaN</td>\n",
       "      <td>nan</td>\n",
       "      <td>archivo</td>\n",
       "      <td>nan</td>\n",
       "      <td>1</td>\n",
       "      <td>1</td>\n",
       "      <td>0</td>\n",
       "    </tr>\n",
       "    <tr>\n",
       "      <th>34</th>\n",
       "      <td>34</td>\n",
       "      <td>https://www.eltiempo.com/archivo/documento/CMS...</td>\n",
       "      <td>Aplazado el partido del Tottenham con el Evert...</td>\n",
       "      <td>NaN</td>\n",
       "      <td>nan</td>\n",
       "      <td>archivo</td>\n",
       "      <td>nan</td>\n",
       "      <td>1</td>\n",
       "      <td>1</td>\n",
       "      <td>0</td>\n",
       "    </tr>\n",
       "    <tr>\n",
       "      <th>...</th>\n",
       "      <td>...</td>\n",
       "      <td>...</td>\n",
       "      <td>...</td>\n",
       "      <td>...</td>\n",
       "      <td>...</td>\n",
       "      <td>...</td>\n",
       "      <td>...</td>\n",
       "      <td>...</td>\n",
       "      <td>...</td>\n",
       "      <td>...</td>\n",
       "    </tr>\n",
       "    <tr>\n",
       "      <th>13109</th>\n",
       "      <td>13109</td>\n",
       "      <td>https://www.eltiempo.com/opinion/caricaturas/r...</td>\n",
       "      <td>Caricaturas</td>\n",
       "      <td>NaN</td>\n",
       "      <td>nan</td>\n",
       "      <td>opinion</td>\n",
       "      <td>nan</td>\n",
       "      <td>1</td>\n",
       "      <td>1</td>\n",
       "      <td>0</td>\n",
       "    </tr>\n",
       "    <tr>\n",
       "      <th>13110</th>\n",
       "      <td>13110</td>\n",
       "      <td>https://www.eltiempo.com/opinion/caricaturas/r...</td>\n",
       "      <td>Caricaturas</td>\n",
       "      <td>NaN</td>\n",
       "      <td>nan</td>\n",
       "      <td>opinion</td>\n",
       "      <td>nan</td>\n",
       "      <td>1</td>\n",
       "      <td>1</td>\n",
       "      <td>0</td>\n",
       "    </tr>\n",
       "    <tr>\n",
       "      <th>13111</th>\n",
       "      <td>13111</td>\n",
       "      <td>https://www.eltiempo.com/opinion/caricaturas/r...</td>\n",
       "      <td>Caricaturas</td>\n",
       "      <td>NaN</td>\n",
       "      <td>nan</td>\n",
       "      <td>opinion</td>\n",
       "      <td>nan</td>\n",
       "      <td>1</td>\n",
       "      <td>1</td>\n",
       "      <td>0</td>\n",
       "    </tr>\n",
       "    <tr>\n",
       "      <th>13112</th>\n",
       "      <td>13112</td>\n",
       "      <td>https://www.eltiempo.com/opinion/caricaturas/r...</td>\n",
       "      <td>Caricaturas</td>\n",
       "      <td>NaN</td>\n",
       "      <td>nan</td>\n",
       "      <td>opinion</td>\n",
       "      <td>nan</td>\n",
       "      <td>1</td>\n",
       "      <td>1</td>\n",
       "      <td>0</td>\n",
       "    </tr>\n",
       "    <tr>\n",
       "      <th>14022</th>\n",
       "      <td>14022</td>\n",
       "      <td>https://www.eltiempo.com/tecnosfera/novedades-...</td>\n",
       "      <td>Otras marcas también sacan sus modelos de 'men...</td>\n",
       "      <td>NaN</td>\n",
       "      <td>nan</td>\n",
       "      <td>tecnosfera</td>\n",
       "      <td>nan</td>\n",
       "      <td>1</td>\n",
       "      <td>1</td>\n",
       "      <td>0</td>\n",
       "    </tr>\n",
       "  </tbody>\n",
       "</table>\n",
       "<p>663 rows × 10 columns</p>\n",
       "</div>"
      ],
      "text/plain": [
       "       Columna1                                            Enlaces  \\\n",
       "30           30  https://www.eltiempo.com/archivo/documento/CMS...   \n",
       "31           31  https://www.eltiempo.com/archivo/documento/CMS...   \n",
       "32           32  https://www.eltiempo.com/archivo/documento/CMS...   \n",
       "33           33  https://www.eltiempo.com/archivo/documento/CMS...   \n",
       "34           34  https://www.eltiempo.com/archivo/documento/CMS...   \n",
       "...         ...                                                ...   \n",
       "13109     13109  https://www.eltiempo.com/opinion/caricaturas/r...   \n",
       "13110     13110  https://www.eltiempo.com/opinion/caricaturas/r...   \n",
       "13111     13111  https://www.eltiempo.com/opinion/caricaturas/r...   \n",
       "13112     13112  https://www.eltiempo.com/opinion/caricaturas/r...   \n",
       "14022     14022  https://www.eltiempo.com/tecnosfera/novedades-...   \n",
       "\n",
       "                                                  Título info contenido  \\\n",
       "30     Sabella será presentado el sábado como nuevo s...  NaN       nan   \n",
       "31     'Bolillo' Gómez se disculpa por agredir a muje...  NaN       nan   \n",
       "32     Lo de 'Bolillo', un golpe bajo para el fútbol ...  NaN       nan   \n",
       "33     No para mala fortuna del DIM: William Arboleda...  NaN       nan   \n",
       "34     Aplazado el partido del Tottenham con el Evert...  NaN       nan   \n",
       "...                                                  ...  ...       ...   \n",
       "13109                                        Caricaturas  NaN       nan   \n",
       "13110                                        Caricaturas  NaN       nan   \n",
       "13111                                        Caricaturas  NaN       nan   \n",
       "13112                                        Caricaturas  NaN       nan   \n",
       "14022  Otras marcas también sacan sus modelos de 'men...  NaN       nan   \n",
       "\n",
       "         Etiqueta contenido_cl  cantidad_de_palabras_contenido  \\\n",
       "30        archivo          nan                               1   \n",
       "31        archivo          nan                               1   \n",
       "32        archivo          nan                               1   \n",
       "33        archivo          nan                               1   \n",
       "34        archivo          nan                               1   \n",
       "...           ...          ...                             ...   \n",
       "13109     opinion          nan                               1   \n",
       "13110     opinion          nan                               1   \n",
       "13111     opinion          nan                               1   \n",
       "13112     opinion          nan                               1   \n",
       "14022  tecnosfera          nan                               1   \n",
       "\n",
       "       cantidad_de_palabras_contenido_cl  diferencia_palabras  \n",
       "30                                     1                    0  \n",
       "31                                     1                    0  \n",
       "32                                     1                    0  \n",
       "33                                     1                    0  \n",
       "34                                     1                    0  \n",
       "...                                  ...                  ...  \n",
       "13109                                  1                    0  \n",
       "13110                                  1                    0  \n",
       "13111                                  1                    0  \n",
       "13112                                  1                    0  \n",
       "14022                                  1                    0  \n",
       "\n",
       "[663 rows x 10 columns]"
      ]
     },
     "execution_count": 16,
     "metadata": {},
     "output_type": "execute_result"
    }
   ],
   "source": [
    "# filtar diferencia de palabras mayor a 0\n",
    "\n",
    "Noticias[Noticias['diferencia_palabras']==0]"
   ]
  },
  {
   "cell_type": "code",
   "execution_count": 17,
   "id": "44366655",
   "metadata": {},
   "outputs": [
    {
     "data": {
      "text/html": [
       "<div>\n",
       "<style scoped>\n",
       "    .dataframe tbody tr th:only-of-type {\n",
       "        vertical-align: middle;\n",
       "    }\n",
       "\n",
       "    .dataframe tbody tr th {\n",
       "        vertical-align: top;\n",
       "    }\n",
       "\n",
       "    .dataframe thead th {\n",
       "        text-align: right;\n",
       "    }\n",
       "</style>\n",
       "<table border=\"1\" class=\"dataframe\">\n",
       "  <thead>\n",
       "    <tr style=\"text-align: right;\">\n",
       "      <th></th>\n",
       "      <th>Columna1</th>\n",
       "      <th>Enlaces</th>\n",
       "      <th>Título</th>\n",
       "      <th>info</th>\n",
       "      <th>contenido</th>\n",
       "      <th>Etiqueta</th>\n",
       "      <th>contenido_cl</th>\n",
       "      <th>cantidad_de_palabras_contenido</th>\n",
       "      <th>cantidad_de_palabras_contenido_cl</th>\n",
       "      <th>diferencia_palabras</th>\n",
       "    </tr>\n",
       "  </thead>\n",
       "  <tbody>\n",
       "    <tr>\n",
       "      <th>0</th>\n",
       "      <td>0</td>\n",
       "      <td>https://www.eltiempo.com/agresion-contra-un-op...</td>\n",
       "      <td>Operador de grúa quedó inconsciente tras agres...</td>\n",
       "      <td>El conductor de una moto le lanzó el casco y p...</td>\n",
       "      <td>Las autoridades están buscando al conductor de...</td>\n",
       "      <td>colombia</td>\n",
       "      <td>Las autoridades están buscando al conductor de...</td>\n",
       "      <td>352</td>\n",
       "      <td>247</td>\n",
       "      <td>105</td>\n",
       "    </tr>\n",
       "    <tr>\n",
       "      <th>1</th>\n",
       "      <td>1</td>\n",
       "      <td>https://www.eltiempo.com/archivo/documento/CMS...</td>\n",
       "      <td>Usaquén, primera en infracciones por mal parqueo</td>\n",
       "      <td>La localidad ocupa el primer lugar en comparen...</td>\n",
       "      <td>\"Los andenes son para los peatones\", reclama e...</td>\n",
       "      <td>archivo</td>\n",
       "      <td>\"Los andenes son para los peatones\", reclama e...</td>\n",
       "      <td>532</td>\n",
       "      <td>424</td>\n",
       "      <td>108</td>\n",
       "    </tr>\n",
       "    <tr>\n",
       "      <th>2</th>\n",
       "      <td>2</td>\n",
       "      <td>https://www.eltiempo.com/archivo/documento/CMS...</td>\n",
       "      <td>'Me atracaron y vi un arma que me heló la sang...</td>\n",
       "      <td>Un ciudadano relata cómo cuatro hombres lo rob...</td>\n",
       "      <td>A las 7 de la noche me había quedado de encont...</td>\n",
       "      <td>archivo</td>\n",
       "      <td>A las 7 de la noche me había quedado de encont...</td>\n",
       "      <td>513</td>\n",
       "      <td>409</td>\n",
       "      <td>104</td>\n",
       "    </tr>\n",
       "    <tr>\n",
       "      <th>3</th>\n",
       "      <td>3</td>\n",
       "      <td>https://www.eltiempo.com/archivo/documento/CMS...</td>\n",
       "      <td>Escoltas mal estacionados, dolor de cabeza de ...</td>\n",
       "      <td>Las zonas de restaurantes se convierten en par...</td>\n",
       "      <td>Atravesados. Eso es lo que se les pasa por la ...</td>\n",
       "      <td>archivo</td>\n",
       "      <td>Atravesados. Eso es lo que se les pasa por la ...</td>\n",
       "      <td>488</td>\n",
       "      <td>380</td>\n",
       "      <td>108</td>\n",
       "    </tr>\n",
       "    <tr>\n",
       "      <th>4</th>\n",
       "      <td>4</td>\n",
       "      <td>https://www.eltiempo.com/archivo/documento/CMS...</td>\n",
       "      <td>Radicado primer proyecto que autorizaría union...</td>\n",
       "      <td>El representante de 'la U', Miguel Gómez, dijo...</td>\n",
       "      <td>“Estamos proponiendo la figura de un contrato ...</td>\n",
       "      <td>archivo</td>\n",
       "      <td>“Estamos proponiendo la figura de un contrato ...</td>\n",
       "      <td>1024</td>\n",
       "      <td>918</td>\n",
       "      <td>106</td>\n",
       "    </tr>\n",
       "    <tr>\n",
       "      <th>...</th>\n",
       "      <td>...</td>\n",
       "      <td>...</td>\n",
       "      <td>...</td>\n",
       "      <td>...</td>\n",
       "      <td>...</td>\n",
       "      <td>...</td>\n",
       "      <td>...</td>\n",
       "      <td>...</td>\n",
       "      <td>...</td>\n",
       "      <td>...</td>\n",
       "    </tr>\n",
       "    <tr>\n",
       "      <th>14391</th>\n",
       "      <td>14391</td>\n",
       "      <td>https://www.eltiempo.com/vida/viajar/una-viaje...</td>\n",
       "      <td>Una viajera pensó que la aerolínea Viva Air le...</td>\n",
       "      <td>La mujer hizo la denuncia en redes. La aerolín...</td>\n",
       "      <td>En Twitter es tendencia 'FCAS' por una denunci...</td>\n",
       "      <td>vida</td>\n",
       "      <td>En Twitter es tendencia 'FCAS' por una denunci...</td>\n",
       "      <td>289</td>\n",
       "      <td>192</td>\n",
       "      <td>97</td>\n",
       "    </tr>\n",
       "    <tr>\n",
       "      <th>14392</th>\n",
       "      <td>14392</td>\n",
       "      <td>https://www.eltiempo.com/vida/viajar/un-dia-pe...</td>\n",
       "      <td>Un día perfecto en Coco Cay, la isla privada d...</td>\n",
       "      <td>El proyecto Global Private Island Collection c...</td>\n",
       "      <td>La naviera internacional Royal Caribbean prese...</td>\n",
       "      <td>vida</td>\n",
       "      <td>La naviera internacional Royal Caribbean prese...</td>\n",
       "      <td>510</td>\n",
       "      <td>413</td>\n",
       "      <td>97</td>\n",
       "    </tr>\n",
       "    <tr>\n",
       "      <th>14393</th>\n",
       "      <td>14393</td>\n",
       "      <td>https://www.eltiempo.com/vida/viajar/visitar-b...</td>\n",
       "      <td>Barú: el paraíso colombiano abierto para todos...</td>\n",
       "      <td>Cuatro hoteles y el Aviario Nacional lanzarán ...</td>\n",
       "      <td>¿Necesita razones para ir a Barú? A menos de u...</td>\n",
       "      <td>vida</td>\n",
       "      <td>¿Necesita razones para ir a Barú? A menos de u...</td>\n",
       "      <td>436</td>\n",
       "      <td>336</td>\n",
       "      <td>100</td>\n",
       "    </tr>\n",
       "    <tr>\n",
       "      <th>14394</th>\n",
       "      <td>14394</td>\n",
       "      <td>https://www.eltiempo.com/vida/viajar/we-trade-...</td>\n",
       "      <td>Con WeTrade, llega la hora LGBT a Bogotá</td>\n",
       "      <td>El 1 y 2 de noviembre se celebrará esta Feria ...</td>\n",
       "      <td>Se estima que la población LGTBI en Colombia e...</td>\n",
       "      <td>vida</td>\n",
       "      <td>Se estima que la población LGTBI en Colombia e...</td>\n",
       "      <td>701</td>\n",
       "      <td>600</td>\n",
       "      <td>101</td>\n",
       "    </tr>\n",
       "    <tr>\n",
       "      <th>14395</th>\n",
       "      <td>14395</td>\n",
       "      <td>https://www.eltiempo.com/vida/viajar/yovoy-cam...</td>\n",
       "      <td>#YoVoy, una invitación a viajar por Colombia</td>\n",
       "      <td>El presidente Duque lanzó la campaña nacional ...</td>\n",
       "      <td>Con la intención de que los colombianos conozc...</td>\n",
       "      <td>vida</td>\n",
       "      <td>Con la intención de que los colombianos conozc...</td>\n",
       "      <td>435</td>\n",
       "      <td>338</td>\n",
       "      <td>97</td>\n",
       "    </tr>\n",
       "  </tbody>\n",
       "</table>\n",
       "<p>14396 rows × 10 columns</p>\n",
       "</div>"
      ],
      "text/plain": [
       "       Columna1                                            Enlaces  \\\n",
       "0             0  https://www.eltiempo.com/agresion-contra-un-op...   \n",
       "1             1  https://www.eltiempo.com/archivo/documento/CMS...   \n",
       "2             2  https://www.eltiempo.com/archivo/documento/CMS...   \n",
       "3             3  https://www.eltiempo.com/archivo/documento/CMS...   \n",
       "4             4  https://www.eltiempo.com/archivo/documento/CMS...   \n",
       "...         ...                                                ...   \n",
       "14391     14391  https://www.eltiempo.com/vida/viajar/una-viaje...   \n",
       "14392     14392  https://www.eltiempo.com/vida/viajar/un-dia-pe...   \n",
       "14393     14393  https://www.eltiempo.com/vida/viajar/visitar-b...   \n",
       "14394     14394  https://www.eltiempo.com/vida/viajar/we-trade-...   \n",
       "14395     14395  https://www.eltiempo.com/vida/viajar/yovoy-cam...   \n",
       "\n",
       "                                                  Título  \\\n",
       "0      Operador de grúa quedó inconsciente tras agres...   \n",
       "1       Usaquén, primera en infracciones por mal parqueo   \n",
       "2      'Me atracaron y vi un arma que me heló la sang...   \n",
       "3      Escoltas mal estacionados, dolor de cabeza de ...   \n",
       "4      Radicado primer proyecto que autorizaría union...   \n",
       "...                                                  ...   \n",
       "14391  Una viajera pensó que la aerolínea Viva Air le...   \n",
       "14392  Un día perfecto en Coco Cay, la isla privada d...   \n",
       "14393  Barú: el paraíso colombiano abierto para todos...   \n",
       "14394           Con WeTrade, llega la hora LGBT a Bogotá   \n",
       "14395       #YoVoy, una invitación a viajar por Colombia   \n",
       "\n",
       "                                                    info  \\\n",
       "0      El conductor de una moto le lanzó el casco y p...   \n",
       "1      La localidad ocupa el primer lugar en comparen...   \n",
       "2      Un ciudadano relata cómo cuatro hombres lo rob...   \n",
       "3      Las zonas de restaurantes se convierten en par...   \n",
       "4      El representante de 'la U', Miguel Gómez, dijo...   \n",
       "...                                                  ...   \n",
       "14391  La mujer hizo la denuncia en redes. La aerolín...   \n",
       "14392  El proyecto Global Private Island Collection c...   \n",
       "14393  Cuatro hoteles y el Aviario Nacional lanzarán ...   \n",
       "14394  El 1 y 2 de noviembre se celebrará esta Feria ...   \n",
       "14395  El presidente Duque lanzó la campaña nacional ...   \n",
       "\n",
       "                                               contenido  Etiqueta  \\\n",
       "0      Las autoridades están buscando al conductor de...  colombia   \n",
       "1      \"Los andenes son para los peatones\", reclama e...   archivo   \n",
       "2      A las 7 de la noche me había quedado de encont...   archivo   \n",
       "3      Atravesados. Eso es lo que se les pasa por la ...   archivo   \n",
       "4      “Estamos proponiendo la figura de un contrato ...   archivo   \n",
       "...                                                  ...       ...   \n",
       "14391  En Twitter es tendencia 'FCAS' por una denunci...      vida   \n",
       "14392  La naviera internacional Royal Caribbean prese...      vida   \n",
       "14393  ¿Necesita razones para ir a Barú? A menos de u...      vida   \n",
       "14394  Se estima que la población LGTBI en Colombia e...      vida   \n",
       "14395  Con la intención de que los colombianos conozc...      vida   \n",
       "\n",
       "                                            contenido_cl  \\\n",
       "0      Las autoridades están buscando al conductor de...   \n",
       "1      \"Los andenes son para los peatones\", reclama e...   \n",
       "2      A las 7 de la noche me había quedado de encont...   \n",
       "3      Atravesados. Eso es lo que se les pasa por la ...   \n",
       "4      “Estamos proponiendo la figura de un contrato ...   \n",
       "...                                                  ...   \n",
       "14391  En Twitter es tendencia 'FCAS' por una denunci...   \n",
       "14392  La naviera internacional Royal Caribbean prese...   \n",
       "14393  ¿Necesita razones para ir a Barú? A menos de u...   \n",
       "14394  Se estima que la población LGTBI en Colombia e...   \n",
       "14395  Con la intención de que los colombianos conozc...   \n",
       "\n",
       "       cantidad_de_palabras_contenido  cantidad_de_palabras_contenido_cl  \\\n",
       "0                                 352                                247   \n",
       "1                                 532                                424   \n",
       "2                                 513                                409   \n",
       "3                                 488                                380   \n",
       "4                                1024                                918   \n",
       "...                               ...                                ...   \n",
       "14391                             289                                192   \n",
       "14392                             510                                413   \n",
       "14393                             436                                336   \n",
       "14394                             701                                600   \n",
       "14395                             435                                338   \n",
       "\n",
       "       diferencia_palabras  \n",
       "0                      105  \n",
       "1                      108  \n",
       "2                      104  \n",
       "3                      108  \n",
       "4                      106  \n",
       "...                    ...  \n",
       "14391                   97  \n",
       "14392                   97  \n",
       "14393                  100  \n",
       "14394                  101  \n",
       "14395                   97  \n",
       "\n",
       "[14396 rows x 10 columns]"
      ]
     },
     "execution_count": 17,
     "metadata": {},
     "output_type": "execute_result"
    }
   ],
   "source": [
    "# sacar los datos nan de la columna de contenido\n",
    "\n",
    "Noticias=Noticias[Noticias['contenido'].notna()]\n",
    "Noticias"
   ]
  },
  {
   "cell_type": "code",
   "execution_count": 18,
   "id": "de50a2ec",
   "metadata": {},
   "outputs": [
    {
     "name": "stdout",
     "output_type": "stream",
     "text": [
      "<class 'pandas.core.frame.DataFrame'>\n",
      "Int64Index: 14396 entries, 0 to 14395\n",
      "Data columns (total 10 columns):\n",
      " #   Column                             Non-Null Count  Dtype \n",
      "---  ------                             --------------  ----- \n",
      " 0   Columna1                           14396 non-null  int64 \n",
      " 1   Enlaces                            14396 non-null  object\n",
      " 2   Título                             14378 non-null  object\n",
      " 3   info                               11483 non-null  object\n",
      " 4   contenido                          14396 non-null  object\n",
      " 5   Etiqueta                           14396 non-null  object\n",
      " 6   contenido_cl                       14396 non-null  object\n",
      " 7   cantidad_de_palabras_contenido     14396 non-null  int64 \n",
      " 8   cantidad_de_palabras_contenido_cl  14396 non-null  int64 \n",
      " 9   diferencia_palabras                14396 non-null  int64 \n",
      "dtypes: int64(4), object(6)\n",
      "memory usage: 1.2+ MB\n"
     ]
    }
   ],
   "source": [
    "Noticias.info()"
   ]
  },
  {
   "cell_type": "markdown",
   "id": "40f7881b",
   "metadata": {},
   "source": [
    "limpieando adicional"
   ]
  },
  {
   "cell_type": "code",
   "execution_count": 19,
   "id": "55b59853",
   "metadata": {},
   "outputs": [
    {
     "data": {
      "text/plain": [
       "0        Las autoridades buscando conductor moto lanzó ...\n",
       "1        \"Los andenes peatones\", reclama enfática *Carm...\n",
       "2        A 7 noche quedado encontrar Boris, siempre cum...\n",
       "3        Atravesados. Eso pasa cabeza residentes transe...\n",
       "4        “Estamos proponiendo figura contrato civil uni...\n",
       "                               ...                        \n",
       "14391    En Twitter tendencia 'FCAS' denuncia hizo muje...\n",
       "14392    La naviera internacional Royal Caribbean prese...\n",
       "14393    ¿Necesita razones ir Barú? A menos hora Cartag...\n",
       "14394    Se estima población LGTBI Colombia 3,3 millone...\n",
       "14395    Con intención colombianos conozcan país aprove...\n",
       "Name: contenido_cl, Length: 14396, dtype: object"
      ]
     },
     "execution_count": 19,
     "metadata": {},
     "output_type": "execute_result"
    }
   ],
   "source": [
    "# quitamos las stopwords\n",
    "Noticias['contenido_cl']=Noticias['contenido_cl'].apply(lambda texto: quitar_stopwords(texto))\n",
    "Noticias['contenido_cl']"
   ]
  },
  {
   "cell_type": "code",
   "execution_count": 20,
   "id": "229ffc08",
   "metadata": {},
   "outputs": [
    {
     "data": {
      "text/plain": [
       "0        Las autoridades buscando conductor moto lanzó ...\n",
       "1        \"Los andenes peatones\", reclama enfática *Carm...\n",
       "2        A  noche quedado encontrar Boris, siempre cump...\n",
       "3        Atravesados. Eso pasa cabeza residentes transe...\n",
       "4        “Estamos proponiendo figura contrato civil uni...\n",
       "                               ...                        \n",
       "14391    En Twitter tendencia 'FCAS' denuncia hizo muje...\n",
       "14392    La naviera internacional Royal Caribbean prese...\n",
       "14393    ¿Necesita razones ir Barú? A menos hora Cartag...\n",
       "14394    Se estima población LGTBI Colombia , millones ...\n",
       "14395    Con intención colombianos conozcan país aprove...\n",
       "Name: contenido_cl, Length: 14396, dtype: object"
      ]
     },
     "execution_count": 20,
     "metadata": {},
     "output_type": "execute_result"
    }
   ],
   "source": [
    "# quitamos los numeros\n",
    "Noticias['contenido_cl']=Noticias['contenido_cl'].apply(lambda texto: quitar_numeros_txt(texto))\n",
    "Noticias['contenido_cl']"
   ]
  },
  {
   "cell_type": "code",
   "execution_count": 21,
   "id": "4c35b14d",
   "metadata": {},
   "outputs": [
    {
     "data": {
      "text/plain": [
       "0        Las autoridades buscando conductor moto lanzó ...\n",
       "1        Los andenes peatones reclama enfática Carmenza...\n",
       "2        A  noche quedado encontrar Boris siempre cumpl...\n",
       "3        Atravesados Eso pasa cabeza residentes transeú...\n",
       "4        “Estamos proponiendo figura contrato civil uni...\n",
       "                               ...                        \n",
       "14391    En Twitter tendencia FCAS denuncia hizo mujer ...\n",
       "14392    La naviera internacional Royal Caribbean prese...\n",
       "14393    ¿Necesita razones ir Barú A menos hora Cartage...\n",
       "14394    Se estima población LGTBI Colombia  millones p...\n",
       "14395    Con intención colombianos conozcan país aprove...\n",
       "Name: contenido_cl, Length: 14396, dtype: object"
      ]
     },
     "execution_count": 21,
     "metadata": {},
     "output_type": "execute_result"
    }
   ],
   "source": [
    "#quitar los signos de puntuacion\n",
    "Noticias['contenido_cl']=Noticias['contenido_cl'].apply(lambda texto: texto.translate(str.maketrans('', '', string.punctuation)))\n",
    "Noticias['contenido_cl']"
   ]
  },
  {
   "cell_type": "markdown",
   "id": "206c32bf",
   "metadata": {},
   "source": [
    "Creando la columna de texto limpio y tokenizado"
   ]
  },
  {
   "cell_type": "code",
   "execution_count": 22,
   "id": "808e9201",
   "metadata": {},
   "outputs": [
    {
     "data": {
      "text/plain": [
       "0        [las, autoridades, buscando, conductor, moto, ...\n",
       "1        [los, andenes, peatones, reclama, enfática, ca...\n",
       "2        [a, noche, quedado, encontrar, boris, siempre,...\n",
       "3        [atravesados, eso, pasa, cabeza, residentes, t...\n",
       "4        [“, estamos, proponiendo, figura, contrato, ci...\n",
       "                               ...                        \n",
       "14391    [en, twitter, tendencia, fcas, denuncia, hizo,...\n",
       "14392    [la, naviera, internacional, royal, caribbean,...\n",
       "14393    [¿necesita, razones, ir, barú, a, menos, hora,...\n",
       "14394    [se, estima, población, lgtbi, colombia, millo...\n",
       "14395    [con, intención, colombianos, conozcan, país, ...\n",
       "Name: contenido_cl_tk, Length: 14396, dtype: object"
      ]
     },
     "execution_count": 22,
     "metadata": {},
     "output_type": "execute_result"
    }
   ],
   "source": [
    "# function for tokenization \n",
    "\n",
    "def tokenizar(texto):\n",
    "    tokens=word_tokenize(texto)\n",
    "    return tokens\n",
    "\n",
    "Noticias['contenido_cl_tk'] =   Noticias['contenido_cl'].apply(lambda x: tokenizar(x.lower()))\n",
    "Noticias['contenido_cl_tk']"
   ]
  },
  {
   "cell_type": "markdown",
   "id": "9deb0031",
   "metadata": {},
   "source": [
    "### Stimming"
   ]
  },
  {
   "cell_type": "code",
   "execution_count": 23,
   "id": "f85e46cd",
   "metadata": {},
   "outputs": [],
   "source": [
    "doc = Noticias['contenido_cl']\n",
    "text = doc.to_string()"
   ]
  },
  {
   "cell_type": "code",
   "execution_count": 24,
   "id": "db8616c1",
   "metadata": {},
   "outputs": [],
   "source": [
    "texto_clean_columna=Noticias['contenido_cl'][0:1000]\n",
    "# seleccionar las primeras 5 filas de la columna de texto limpio"
   ]
  },
  {
   "cell_type": "code",
   "execution_count": 25,
   "id": "ea7a3f60",
   "metadata": {},
   "outputs": [
    {
     "data": {
      "text/plain": [
       "0      Las autoridades buscando conductor moto lanzó ...\n",
       "1      Los andenes peatones reclama enfática Carmenza...\n",
       "2      A  noche quedado encontrar Boris siempre cumpl...\n",
       "3      Atravesados Eso pasa cabeza residentes transeú...\n",
       "4      “Estamos proponiendo figura contrato civil uni...\n",
       "                             ...                        \n",
       "995                                                     \n",
       "996                                                     \n",
       "997                                                     \n",
       "998    Hasta domingo noche solo jueza delegado Procur...\n",
       "999    popular película vampiros Crepúsculo Amanecer ...\n",
       "Name: contenido_cl, Length: 1000, dtype: object"
      ]
     },
     "execution_count": 25,
     "metadata": {},
     "output_type": "execute_result"
    }
   ],
   "source": [
    "texto_clean_columna"
   ]
  },
  {
   "cell_type": "code",
   "execution_count": 26,
   "id": "77fc59a3",
   "metadata": {},
   "outputs": [],
   "source": [
    "def normalize(text):\n",
    "    doc = nlp(text)\n",
    "    words = [t.orth_ for t in doc if not t.is_punct | t.is_stop]\n",
    "    lexical_tokens = [t.lower() for t in words if len(t) > 3 and     \n",
    "    t.isalpha()]\n",
    "    return lexical_tokens\n"
   ]
  },
  {
   "cell_type": "code",
   "execution_count": 27,
   "id": "a7272836",
   "metadata": {},
   "outputs": [],
   "source": [
    "Lista_texto_procesado=[]\n",
    "for document in texto_clean_columna:\n",
    "    Lista_texto_procesado.append(normalize(document))\n",
    "    "
   ]
  },
  {
   "cell_type": "code",
   "execution_count": 28,
   "id": "3985f78a",
   "metadata": {},
   "outputs": [
    {
     "data": {
      "text/plain": [
       "1000"
      ]
     },
     "execution_count": 28,
     "metadata": {},
     "output_type": "execute_result"
    }
   ],
   "source": [
    "len(Lista_texto_procesado)"
   ]
  },
  {
   "cell_type": "code",
   "execution_count": 29,
   "id": "411a02f1",
   "metadata": {},
   "outputs": [],
   "source": [
    "Lista_texto_procesado_2= [' '.join(k) for k in Lista_texto_procesado]"
   ]
  },
  {
   "cell_type": "code",
   "execution_count": 30,
   "id": "46229214",
   "metadata": {},
   "outputs": [
    {
     "data": {
      "text/plain": [
       "list"
      ]
     },
     "execution_count": 30,
     "metadata": {},
     "output_type": "execute_result"
    }
   ],
   "source": [
    "type(Lista_texto_procesado_2)"
   ]
  },
  {
   "cell_type": "code",
   "execution_count": 31,
   "id": "091aa7c1",
   "metadata": {},
   "outputs": [],
   "source": [
    "# pasar una lista a pandas.core.series.Series\n",
    "\n",
    "df_texto_procesado_2=pd.Series(Lista_texto_procesado_2)"
   ]
  },
  {
   "cell_type": "code",
   "execution_count": 32,
   "id": "03b88ab3",
   "metadata": {},
   "outputs": [
    {
     "data": {
      "text/plain": [
       "pandas.core.series.Series"
      ]
     },
     "execution_count": 32,
     "metadata": {},
     "output_type": "execute_result"
    }
   ],
   "source": [
    "type(df_texto_procesado_2)"
   ]
  },
  {
   "cell_type": "code",
   "execution_count": 33,
   "id": "30e0eb8b",
   "metadata": {},
   "outputs": [
    {
     "name": "stderr",
     "output_type": "stream",
     "text": [
      "[nltk_data] Downloading package stopwords to C:\\Users\\Miguel\n",
      "[nltk_data]     Gomez\\AppData\\Roaming\\nltk_data...\n",
      "[nltk_data]   Package stopwords is already up-to-date!\n"
     ]
    }
   ],
   "source": [
    "import nltk\n",
    "nltk.download('stopwords')\n",
    "from nltk.corpus import stopwords\n",
    "\n",
    "sw=set(stopwords.words('spanish'))\n"
   ]
  },
  {
   "cell_type": "markdown",
   "id": "3737babe",
   "metadata": {},
   "source": [
    "TFIDF"
   ]
  },
  {
   "cell_type": "code",
   "execution_count": 34,
   "id": "205fe193",
   "metadata": {},
   "outputs": [],
   "source": [
    "from sklearn.feature_extraction.text import TfidfVectorizer\n",
    "modelo_de_conteo_2=TfidfVectorizer(stop_words=sw)"
   ]
  },
  {
   "cell_type": "markdown",
   "id": "f713efc7",
   "metadata": {},
   "source": [
    "Vectorización"
   ]
  },
  {
   "cell_type": "code",
   "execution_count": 35,
   "id": "1ce11c08",
   "metadata": {},
   "outputs": [
    {
     "data": {
      "text/plain": [
       "<1000x30304 sparse matrix of type '<class 'numpy.float64'>'\n",
       "\twith 121216 stored elements in Compressed Sparse Row format>"
      ]
     },
     "execution_count": 35,
     "metadata": {},
     "output_type": "execute_result"
    }
   ],
   "source": [
    "X_array_2=modelo_de_conteo_2.fit_transform(df_texto_procesado_2)\n",
    "X_array_2"
   ]
  },
  {
   "cell_type": "markdown",
   "id": "130377d2",
   "metadata": {},
   "source": [
    "Cluster"
   ]
  },
  {
   "cell_type": "code",
   "execution_count": 36,
   "id": "443ef001",
   "metadata": {},
   "outputs": [
    {
     "data": {
      "text/plain": [
       "array([2, 2, 2, 2, 2, 2, 2, 2, 2, 2, 2, 2, 2, 2, 2, 2, 2, 2, 2, 2, 2, 2,\n",
       "       2, 2, 2, 2, 2, 2, 2, 2, 2, 2, 2, 2, 2, 2, 2, 2, 2, 2, 2, 2, 2, 2,\n",
       "       2, 2, 2, 2, 2, 2, 2, 2, 2, 2, 2, 2, 2, 2, 2, 2, 2, 2, 2, 2, 2, 2,\n",
       "       2, 2, 2, 2, 2, 2, 2, 2, 2, 2, 2, 2, 2, 2, 2, 2, 2, 2, 2, 2, 2, 2,\n",
       "       2, 2, 2, 2, 2, 2, 2, 2, 2, 2, 2, 2, 2, 2, 2, 2, 2, 2, 2, 2, 2, 4,\n",
       "       2, 2, 2, 2, 2, 2, 2, 2, 2, 2, 2, 2, 2, 2, 2, 2, 2, 2, 2, 2, 2, 2,\n",
       "       2, 2, 2, 2, 2, 2, 2, 2, 2, 2, 2, 2, 2, 2, 2, 2, 2, 2, 2, 2, 2, 2,\n",
       "       2, 2, 2, 2, 2, 2, 2, 2, 2, 2, 2, 2, 2, 2, 2, 2, 2, 2, 2, 2, 2, 2,\n",
       "       2, 2, 2, 2, 2, 2, 2, 2, 2, 2, 2, 2, 2, 2, 2, 2, 2, 2, 2, 8, 2, 2,\n",
       "       2, 2, 2, 2, 2, 2, 2, 2, 2, 2, 2, 2, 2, 2, 2, 2, 2, 2, 2, 2, 2, 2,\n",
       "       2, 2, 2, 2, 2, 2, 2, 2, 2, 2, 2, 2, 2, 2, 2, 2, 2, 2, 2, 2, 2, 2,\n",
       "       2, 2, 2, 2, 2, 2, 2, 2, 2, 2, 2, 2, 2, 2, 2, 2, 2, 2, 2, 2, 2, 2,\n",
       "       2, 2, 2, 2, 2, 7, 2, 2, 2, 2, 2, 2, 2, 2, 2, 2, 2, 2, 2, 2, 2, 2,\n",
       "       2, 2, 2, 2, 2, 2, 2, 2, 2, 2, 2, 2, 2, 2, 2, 2, 2, 2, 2, 2, 2, 2,\n",
       "       2, 2, 2, 2, 2, 2, 2, 2, 2, 2, 2, 2, 2, 2, 2, 2, 2, 2, 2, 2, 2, 2,\n",
       "       2, 2, 2, 2, 2, 2, 2, 2, 2, 2, 2, 2, 2, 2, 2, 2, 2, 2, 2, 2, 2, 2,\n",
       "       2, 2, 2, 2, 2, 2, 2, 2, 2, 2, 2, 2, 2, 2, 2, 2, 2, 2, 2, 2, 2, 2,\n",
       "       2, 2, 2, 2, 2, 2, 2, 2, 2, 2, 2, 2, 2, 2, 2, 2, 2, 2, 2, 2, 2, 2,\n",
       "       2, 2, 2, 2, 2, 2, 2, 2, 2, 2, 2, 2, 2, 2, 2, 2, 2, 2, 2, 2, 2, 2,\n",
       "       2, 2, 2, 2, 2, 2, 2, 2, 2, 2, 2, 2, 2, 2, 2, 2, 2, 2, 2, 2, 2, 2,\n",
       "       2, 2, 2, 2, 2, 2, 2, 2, 2, 2, 2, 2, 2, 2, 2, 2, 2, 2, 2, 2, 2, 2,\n",
       "       2, 2, 2, 2, 2, 2, 2, 2, 2, 2, 2, 2, 2, 2, 2, 2, 2, 2, 2, 2, 2, 2,\n",
       "       2, 2, 2, 2, 2, 2, 2, 2, 2, 2, 2, 2, 2, 9, 2, 2, 2, 1, 2, 2, 2, 1,\n",
       "       2, 2, 2, 2, 2, 2, 2, 2, 2, 2, 2, 2, 2, 2, 2, 2, 2, 2, 2, 2, 2, 2,\n",
       "       2, 2, 2, 2, 2, 2, 2, 2, 2, 2, 2, 2, 2, 2, 2, 2, 2, 2, 2, 2, 2, 2,\n",
       "       2, 2, 2, 2, 2, 2, 2, 2, 2, 2, 2, 2, 2, 2, 2, 0, 2, 2, 2, 2, 2, 2,\n",
       "       2, 2, 2, 2, 2, 2, 2, 2, 5, 2, 2, 2, 2, 2, 2, 2, 2, 2, 2, 2, 2, 2,\n",
       "       2, 2, 2, 2, 2, 2, 2, 2, 2, 2, 2, 2, 2, 2, 2, 2, 2, 2, 2, 2, 2, 2,\n",
       "       2, 2, 2, 2, 2, 2, 2, 2, 2, 2, 2, 2, 2, 2, 2, 2, 2, 2, 2, 2, 2, 2,\n",
       "       2, 2, 2, 2, 2, 2, 2, 2, 2, 2, 2, 2, 2, 2, 2, 2, 2, 2, 2, 2, 2, 2,\n",
       "       2, 2, 2, 2, 2, 2, 2, 2, 2, 2, 2, 2, 2, 2, 2, 2, 2, 2, 2, 2, 2, 2,\n",
       "       2, 2, 2, 2, 2, 2, 2, 2, 2, 2, 2, 2, 2, 2, 2, 2, 2, 2, 2, 2, 2, 2,\n",
       "       2, 2, 2, 2, 2, 2, 2, 2, 2, 2, 2, 2, 2, 2, 2, 2, 2, 2, 2, 2, 2, 2,\n",
       "       2, 2, 2, 2, 2, 2, 2, 2, 2, 2, 2, 2, 2, 2, 2, 2, 2, 2, 2, 2, 2, 2,\n",
       "       2, 2, 2, 2, 2, 2, 2, 2, 2, 2, 2, 2, 2, 2, 2, 2, 2, 2, 2, 2, 2, 2,\n",
       "       2, 2, 2, 2, 2, 2, 2, 2, 2, 2, 2, 2, 2, 2, 2, 2, 2, 2, 2, 2, 2, 2,\n",
       "       2, 2, 2, 2, 2, 2, 2, 2, 2, 2, 2, 2, 2, 2, 2, 2, 2, 2, 2, 2, 2, 2,\n",
       "       2, 2, 2, 2, 2, 2, 2, 2, 2, 2, 2, 2, 2, 2, 2, 2, 2, 2, 2, 2, 2, 2,\n",
       "       2, 2, 2, 2, 2, 2, 2, 2, 2, 2, 2, 2, 2, 2, 2, 2, 2, 2, 2, 2, 2, 2,\n",
       "       2, 2, 2, 2, 2, 2, 2, 2, 2, 2, 2, 2, 2, 2, 2, 2, 2, 2, 2, 2, 2, 2,\n",
       "       2, 2, 2, 2, 2, 2, 2, 2, 2, 2, 2, 2, 2, 2, 2, 2, 2, 2, 2, 2, 2, 3,\n",
       "       2, 2, 2, 2, 2, 2, 2, 2, 2, 2, 2, 2, 2, 2, 2, 2, 2, 2, 2, 2, 2, 2,\n",
       "       2, 2, 2, 2, 2, 2, 2, 2, 2, 2, 2, 2, 2, 2, 2, 2, 2, 2, 2, 2, 2, 2,\n",
       "       2, 2, 2, 2, 2, 2, 2, 2, 2, 2, 2, 2, 2, 2, 2, 2, 2, 2, 2, 2, 2, 2,\n",
       "       2, 2, 2, 2, 6, 2, 2, 2, 2, 2, 2, 2, 2, 2, 2, 2, 2, 2, 2, 2, 2, 2,\n",
       "       2, 2, 2, 2, 2, 2, 2, 2, 2, 2])"
      ]
     },
     "execution_count": 36,
     "metadata": {},
     "output_type": "execute_result"
    }
   ],
   "source": [
    "modelo_agrupamiento=KMeans(n_clusters=10)\n",
    "clusters=modelo_agrupamiento.fit_transform(X_array_2)\n",
    "modelo_agrupamiento.labels_\n"
   ]
  },
  {
   "cell_type": "code",
   "execution_count": 37,
   "id": "1bb22b6b",
   "metadata": {},
   "outputs": [],
   "source": [
    "Noticias_agrupdas=pd.DataFrame(df_texto_procesado_2)\n",
    "Noticias_agrupdas['cluster']=modelo_agrupamiento.labels_"
   ]
  },
  {
   "cell_type": "code",
   "execution_count": 38,
   "id": "b721dd04",
   "metadata": {},
   "outputs": [
    {
     "data": {
      "text/html": [
       "<h1>CLUSTER 0</h1>"
      ],
      "text/plain": [
       "<IPython.core.display.HTML object>"
      ]
     },
     "metadata": {},
     "output_type": "display_data"
    },
    {
     "data": {
      "text/html": [
       "<table border=\"1\" class=\"dataframe\">\n",
       "  <thead>\n",
       "    <tr style=\"text-align: right;\">\n",
       "      <th></th>\n",
       "      <th>Palabra</th>\n",
       "      <th>pos</th>\n",
       "    </tr>\n",
       "  </thead>\n",
       "  <tbody>\n",
       "    <tr>\n",
       "      <th>37</th>\n",
       "      <td>hombre</td>\n",
       "      <td>14623</td>\n",
       "    </tr>\n",
       "    <tr>\n",
       "      <th>920</th>\n",
       "      <td>martínez</td>\n",
       "      <td>18384</td>\n",
       "    </tr>\n",
       "    <tr>\n",
       "      <th>2421</th>\n",
       "      <td>fernando</td>\n",
       "      <td>12743</td>\n",
       "    </tr>\n",
       "    <tr>\n",
       "      <th>2911</th>\n",
       "      <td>fotografías</td>\n",
       "      <td>13149</td>\n",
       "    </tr>\n",
       "    <tr>\n",
       "      <th>3042</th>\n",
       "      <td>sierra</td>\n",
       "      <td>26491</td>\n",
       "    </tr>\n",
       "    <tr>\n",
       "      <th>3167</th>\n",
       "      <td>manizales</td>\n",
       "      <td>18166</td>\n",
       "    </tr>\n",
       "    <tr>\n",
       "      <th>4967</th>\n",
       "      <td>vivo</td>\n",
       "      <td>29718</td>\n",
       "    </tr>\n",
       "    <tr>\n",
       "      <th>21686</th>\n",
       "      <td>arhuacos</td>\n",
       "      <td>2311</td>\n",
       "    </tr>\n",
       "    <tr>\n",
       "      <th>21688</th>\n",
       "      <td>zarwa</td>\n",
       "      <td>30144</td>\n",
       "    </tr>\n",
       "    <tr>\n",
       "      <th>21700</th>\n",
       "      <td>jano</td>\n",
       "      <td>16520</td>\n",
       "    </tr>\n",
       "  </tbody>\n",
       "</table>"
      ],
      "text/plain": [
       "<IPython.core.display.HTML object>"
      ]
     },
     "metadata": {},
     "output_type": "display_data"
    },
    {
     "data": {
      "text/html": [
       "<h1>CLUSTER 1</h1>"
      ],
      "text/plain": [
       "<IPython.core.display.HTML object>"
      ]
     },
     "metadata": {},
     "output_type": "display_data"
    },
    {
     "data": {
      "text/html": [
       "<table border=\"1\" class=\"dataframe\">\n",
       "  <thead>\n",
       "    <tr style=\"text-align: right;\">\n",
       "      <th></th>\n",
       "      <th>Palabra</th>\n",
       "      <th>pos</th>\n",
       "    </tr>\n",
       "  </thead>\n",
       "  <tbody>\n",
       "    <tr>\n",
       "      <th>1254</th>\n",
       "      <td>sencillo</td>\n",
       "      <td>26252</td>\n",
       "    </tr>\n",
       "    <tr>\n",
       "      <th>8614</th>\n",
       "      <td>regresa</td>\n",
       "      <td>24483</td>\n",
       "    </tr>\n",
       "    <tr>\n",
       "      <th>8615</th>\n",
       "      <td>colsubsidio</td>\n",
       "      <td>5993</td>\n",
       "    </tr>\n",
       "    <tr>\n",
       "      <th>8724</th>\n",
       "      <td>canción</td>\n",
       "      <td>4614</td>\n",
       "    </tr>\n",
       "    <tr>\n",
       "      <th>12384</th>\n",
       "      <td>exitoso</td>\n",
       "      <td>12169</td>\n",
       "    </tr>\n",
       "    <tr>\n",
       "      <th>12736</th>\n",
       "      <td>álbum</td>\n",
       "      <td>30195</td>\n",
       "    </tr>\n",
       "    <tr>\n",
       "      <th>12871</th>\n",
       "      <td>grabar</td>\n",
       "      <td>13919</td>\n",
       "    </tr>\n",
       "    <tr>\n",
       "      <th>14362</th>\n",
       "      <td>emisoras</td>\n",
       "      <td>10597</td>\n",
       "    </tr>\n",
       "    <tr>\n",
       "      <th>20061</th>\n",
       "      <td>site</td>\n",
       "      <td>26648</td>\n",
       "    </tr>\n",
       "    <tr>\n",
       "      <th>20062</th>\n",
       "      <td>lanzada</td>\n",
       "      <td>17004</td>\n",
       "    </tr>\n",
       "  </tbody>\n",
       "</table>"
      ],
      "text/plain": [
       "<IPython.core.display.HTML object>"
      ]
     },
     "metadata": {},
     "output_type": "display_data"
    },
    {
     "data": {
      "text/html": [
       "<h1>CLUSTER 2</h1>"
      ],
      "text/plain": [
       "<IPython.core.display.HTML object>"
      ]
     },
     "metadata": {},
     "output_type": "display_data"
    },
    {
     "data": {
      "text/html": [
       "<table border=\"1\" class=\"dataframe\">\n",
       "  <thead>\n",
       "    <tr style=\"text-align: right;\">\n",
       "      <th></th>\n",
       "      <th>Palabra</th>\n",
       "      <th>pos</th>\n",
       "    </tr>\n",
       "  </thead>\n",
       "  <tbody>\n",
       "    <tr>\n",
       "      <th>70</th>\n",
       "      <td>años</td>\n",
       "      <td>3222</td>\n",
       "    </tr>\n",
       "    <tr>\n",
       "      <th>159</th>\n",
       "      <td>pesos</td>\n",
       "      <td>21816</td>\n",
       "    </tr>\n",
       "    <tr>\n",
       "      <th>346</th>\n",
       "      <td>policía</td>\n",
       "      <td>22220</td>\n",
       "    </tr>\n",
       "    <tr>\n",
       "      <th>392</th>\n",
       "      <td>colombia</td>\n",
       "      <td>5956</td>\n",
       "    </tr>\n",
       "    <tr>\n",
       "      <th>682</th>\n",
       "      <td>bogotá</td>\n",
       "      <td>3854</td>\n",
       "    </tr>\n",
       "    <tr>\n",
       "      <th>686</th>\n",
       "      <td>país</td>\n",
       "      <td>21361</td>\n",
       "    </tr>\n",
       "    <tr>\n",
       "      <th>754</th>\n",
       "      <td>ciento</td>\n",
       "      <td>5528</td>\n",
       "    </tr>\n",
       "    <tr>\n",
       "      <th>758</th>\n",
       "      <td>presidente</td>\n",
       "      <td>22736</td>\n",
       "    </tr>\n",
       "    <tr>\n",
       "      <th>894</th>\n",
       "      <td>millones</td>\n",
       "      <td>18933</td>\n",
       "    </tr>\n",
       "    <tr>\n",
       "      <th>960</th>\n",
       "      <td>tiempo</td>\n",
       "      <td>28020</td>\n",
       "    </tr>\n",
       "  </tbody>\n",
       "</table>"
      ],
      "text/plain": [
       "<IPython.core.display.HTML object>"
      ]
     },
     "metadata": {},
     "output_type": "display_data"
    },
    {
     "data": {
      "text/html": [
       "<h1>CLUSTER 3</h1>"
      ],
      "text/plain": [
       "<IPython.core.display.HTML object>"
      ]
     },
     "metadata": {},
     "output_type": "display_data"
    },
    {
     "data": {
      "text/html": [
       "<table border=\"1\" class=\"dataframe\">\n",
       "  <thead>\n",
       "    <tr style=\"text-align: right;\">\n",
       "      <th></th>\n",
       "      <th>Palabra</th>\n",
       "      <th>pos</th>\n",
       "    </tr>\n",
       "  </thead>\n",
       "  <tbody>\n",
       "    <tr>\n",
       "      <th>392</th>\n",
       "      <td>colombia</td>\n",
       "      <td>5956</td>\n",
       "    </tr>\n",
       "    <tr>\n",
       "      <th>483</th>\n",
       "      <td>corte</td>\n",
       "      <td>7426</td>\n",
       "    </tr>\n",
       "    <tr>\n",
       "      <th>1589</th>\n",
       "      <td>gustavo</td>\n",
       "      <td>14192</td>\n",
       "    </tr>\n",
       "    <tr>\n",
       "      <th>2026</th>\n",
       "      <td>abogados</td>\n",
       "      <td>57</td>\n",
       "    </tr>\n",
       "    <tr>\n",
       "      <th>3222</th>\n",
       "      <td>reunirá</td>\n",
       "      <td>25225</td>\n",
       "    </tr>\n",
       "    <tr>\n",
       "      <th>8327</th>\n",
       "      <td>agente</td>\n",
       "      <td>859</td>\n",
       "    </tr>\n",
       "    <tr>\n",
       "      <th>11094</th>\n",
       "      <td>superados</td>\n",
       "      <td>27349</td>\n",
       "    </tr>\n",
       "    <tr>\n",
       "      <th>19189</th>\n",
       "      <td>designado</td>\n",
       "      <td>9032</td>\n",
       "    </tr>\n",
       "    <tr>\n",
       "      <th>28274</th>\n",
       "      <td>aclarados</td>\n",
       "      <td>319</td>\n",
       "    </tr>\n",
       "    <tr>\n",
       "      <th>28278</th>\n",
       "      <td>coagente</td>\n",
       "      <td>5764</td>\n",
       "    </tr>\n",
       "  </tbody>\n",
       "</table>"
      ],
      "text/plain": [
       "<IPython.core.display.HTML object>"
      ]
     },
     "metadata": {},
     "output_type": "display_data"
    },
    {
     "data": {
      "text/html": [
       "<h1>CLUSTER 4</h1>"
      ],
      "text/plain": [
       "<IPython.core.display.HTML object>"
      ]
     },
     "metadata": {},
     "output_type": "display_data"
    },
    {
     "data": {
      "text/html": [
       "<table border=\"1\" class=\"dataframe\">\n",
       "  <thead>\n",
       "    <tr style=\"text-align: right;\">\n",
       "      <th></th>\n",
       "      <th>Palabra</th>\n",
       "      <th>pos</th>\n",
       "    </tr>\n",
       "  </thead>\n",
       "  <tbody>\n",
       "    <tr>\n",
       "      <th>800</th>\n",
       "      <td>cambios</td>\n",
       "      <td>4512</td>\n",
       "    </tr>\n",
       "    <tr>\n",
       "      <th>2788</th>\n",
       "      <td>motor</td>\n",
       "      <td>19352</td>\n",
       "    </tr>\n",
       "    <tr>\n",
       "      <th>5834</th>\n",
       "      <td>camioneta</td>\n",
       "      <td>4543</td>\n",
       "    </tr>\n",
       "    <tr>\n",
       "      <th>6044</th>\n",
       "      <td>automóvil</td>\n",
       "      <td>3022</td>\n",
       "    </tr>\n",
       "    <tr>\n",
       "      <th>6129</th>\n",
       "      <td>automática</td>\n",
       "      <td>3017</td>\n",
       "    </tr>\n",
       "    <tr>\n",
       "      <th>6396</th>\n",
       "      <td>ruedas</td>\n",
       "      <td>25639</td>\n",
       "    </tr>\n",
       "    <tr>\n",
       "      <th>6677</th>\n",
       "      <td>funcionales</td>\n",
       "      <td>13352</td>\n",
       "    </tr>\n",
       "    <tr>\n",
       "      <th>6678</th>\n",
       "      <td>subaru</td>\n",
       "      <td>27103</td>\n",
       "    </tr>\n",
       "    <tr>\n",
       "      <th>6712</th>\n",
       "      <td>torque</td>\n",
       "      <td>28223</td>\n",
       "    </tr>\n",
       "    <tr>\n",
       "      <th>6757</th>\n",
       "      <td>mandos</td>\n",
       "      <td>18110</td>\n",
       "    </tr>\n",
       "  </tbody>\n",
       "</table>"
      ],
      "text/plain": [
       "<IPython.core.display.HTML object>"
      ]
     },
     "metadata": {},
     "output_type": "display_data"
    },
    {
     "data": {
      "text/html": [
       "<h1>CLUSTER 5</h1>"
      ],
      "text/plain": [
       "<IPython.core.display.HTML object>"
      ]
     },
     "metadata": {},
     "output_type": "display_data"
    },
    {
     "data": {
      "text/html": [
       "<table border=\"1\" class=\"dataframe\">\n",
       "  <thead>\n",
       "    <tr style=\"text-align: right;\">\n",
       "      <th></th>\n",
       "      <th>Palabra</th>\n",
       "      <th>pos</th>\n",
       "    </tr>\n",
       "  </thead>\n",
       "  <tbody>\n",
       "    <tr>\n",
       "      <th>346</th>\n",
       "      <td>policía</td>\n",
       "      <td>22220</td>\n",
       "    </tr>\n",
       "    <tr>\n",
       "      <th>430</th>\n",
       "      <td>velandia</td>\n",
       "      <td>29208</td>\n",
       "    </tr>\n",
       "    <tr>\n",
       "      <th>717</th>\n",
       "      <td>víctimas</td>\n",
       "      <td>29856</td>\n",
       "    </tr>\n",
       "    <tr>\n",
       "      <th>3077</th>\n",
       "      <td>banda</td>\n",
       "      <td>3344</td>\n",
       "    </tr>\n",
       "    <tr>\n",
       "      <th>3716</th>\n",
       "      <td>armados</td>\n",
       "      <td>2336</td>\n",
       "    </tr>\n",
       "    <tr>\n",
       "      <th>4325</th>\n",
       "      <td>coronel</td>\n",
       "      <td>7335</td>\n",
       "    </tr>\n",
       "    <tr>\n",
       "      <th>10286</th>\n",
       "      <td>finca</td>\n",
       "      <td>12913</td>\n",
       "    </tr>\n",
       "    <tr>\n",
       "      <th>11884</th>\n",
       "      <td>capturados</td>\n",
       "      <td>4730</td>\n",
       "    </tr>\n",
       "    <tr>\n",
       "      <th>21947</th>\n",
       "      <td>tabio</td>\n",
       "      <td>27580</td>\n",
       "    </tr>\n",
       "    <tr>\n",
       "      <th>21967</th>\n",
       "      <td>amarraron</td>\n",
       "      <td>1465</td>\n",
       "    </tr>\n",
       "  </tbody>\n",
       "</table>"
      ],
      "text/plain": [
       "<IPython.core.display.HTML object>"
      ]
     },
     "metadata": {},
     "output_type": "display_data"
    },
    {
     "data": {
      "text/html": [
       "<h1>CLUSTER 6</h1>"
      ],
      "text/plain": [
       "<IPython.core.display.HTML object>"
      ]
     },
     "metadata": {},
     "output_type": "display_data"
    },
    {
     "data": {
      "text/html": [
       "<table border=\"1\" class=\"dataframe\">\n",
       "  <thead>\n",
       "    <tr style=\"text-align: right;\">\n",
       "      <th></th>\n",
       "      <th>Palabra</th>\n",
       "      <th>pos</th>\n",
       "    </tr>\n",
       "  </thead>\n",
       "  <tbody>\n",
       "    <tr>\n",
       "      <th>621</th>\n",
       "      <td>alimentos</td>\n",
       "      <td>1272</td>\n",
       "    </tr>\n",
       "    <tr>\n",
       "      <th>932</th>\n",
       "      <td>hospitales</td>\n",
       "      <td>14717</td>\n",
       "    </tr>\n",
       "    <tr>\n",
       "      <th>1298</th>\n",
       "      <td>firma</td>\n",
       "      <td>12931</td>\n",
       "    </tr>\n",
       "    <tr>\n",
       "      <th>1859</th>\n",
       "      <td>carne</td>\n",
       "      <td>4851</td>\n",
       "    </tr>\n",
       "    <tr>\n",
       "      <th>3580</th>\n",
       "      <td>confianza</td>\n",
       "      <td>6582</td>\n",
       "    </tr>\n",
       "    <tr>\n",
       "      <th>16100</th>\n",
       "      <td>caballo</td>\n",
       "      <td>4283</td>\n",
       "    </tr>\n",
       "    <tr>\n",
       "      <th>22075</th>\n",
       "      <td>polonia</td>\n",
       "      <td>22243</td>\n",
       "    </tr>\n",
       "    <tr>\n",
       "      <th>25955</th>\n",
       "      <td>irlanda</td>\n",
       "      <td>16385</td>\n",
       "    </tr>\n",
       "    <tr>\n",
       "      <th>29787</th>\n",
       "      <td>hamburguesas</td>\n",
       "      <td>14342</td>\n",
       "    </tr>\n",
       "    <tr>\n",
       "      <th>29789</th>\n",
       "      <td>rangeland</td>\n",
       "      <td>23824</td>\n",
       "    </tr>\n",
       "  </tbody>\n",
       "</table>"
      ],
      "text/plain": [
       "<IPython.core.display.HTML object>"
      ]
     },
     "metadata": {},
     "output_type": "display_data"
    },
    {
     "data": {
      "text/html": [
       "<h1>CLUSTER 7</h1>"
      ],
      "text/plain": [
       "<IPython.core.display.HTML object>"
      ]
     },
     "metadata": {},
     "output_type": "display_data"
    },
    {
     "data": {
      "text/html": [
       "<table border=\"1\" class=\"dataframe\">\n",
       "  <thead>\n",
       "    <tr style=\"text-align: right;\">\n",
       "      <th></th>\n",
       "      <th>Palabra</th>\n",
       "      <th>pos</th>\n",
       "    </tr>\n",
       "  </thead>\n",
       "  <tbody>\n",
       "    <tr>\n",
       "      <th>17</th>\n",
       "      <td>video</td>\n",
       "      <td>29461</td>\n",
       "    </tr>\n",
       "    <tr>\n",
       "      <th>439</th>\n",
       "      <td>personaje</td>\n",
       "      <td>21746</td>\n",
       "    </tr>\n",
       "    <tr>\n",
       "      <th>1765</th>\n",
       "      <td>escritor</td>\n",
       "      <td>11427</td>\n",
       "    </tr>\n",
       "    <tr>\n",
       "      <th>3285</th>\n",
       "      <td>óscar</td>\n",
       "      <td>30287</td>\n",
       "    </tr>\n",
       "    <tr>\n",
       "      <th>10061</th>\n",
       "      <td>collazos</td>\n",
       "      <td>5937</td>\n",
       "    </tr>\n",
       "    <tr>\n",
       "      <th>13986</th>\n",
       "      <td>calumnia</td>\n",
       "      <td>4465</td>\n",
       "    </tr>\n",
       "    <tr>\n",
       "      <th>13992</th>\n",
       "      <td>duzán</td>\n",
       "      <td>10161</td>\n",
       "    </tr>\n",
       "    <tr>\n",
       "      <th>14019</th>\n",
       "      <td>condecorado</td>\n",
       "      <td>6501</td>\n",
       "    </tr>\n",
       "    <tr>\n",
       "      <th>14025</th>\n",
       "      <td>condecora</td>\n",
       "      <td>6498</td>\n",
       "    </tr>\n",
       "    <tr>\n",
       "      <th>14056</th>\n",
       "      <td>chambacú</td>\n",
       "      <td>5314</td>\n",
       "    </tr>\n",
       "  </tbody>\n",
       "</table>"
      ],
      "text/plain": [
       "<IPython.core.display.HTML object>"
      ]
     },
     "metadata": {},
     "output_type": "display_data"
    },
    {
     "data": {
      "text/html": [
       "<h1>CLUSTER 8</h1>"
      ],
      "text/plain": [
       "<IPython.core.display.HTML object>"
      ]
     },
     "metadata": {},
     "output_type": "display_data"
    },
    {
     "data": {
      "text/html": [
       "<table border=\"1\" class=\"dataframe\">\n",
       "  <thead>\n",
       "    <tr style=\"text-align: right;\">\n",
       "      <th></th>\n",
       "      <th>Palabra</th>\n",
       "      <th>pos</th>\n",
       "    </tr>\n",
       "  </thead>\n",
       "  <tbody>\n",
       "    <tr>\n",
       "      <th>779</th>\n",
       "      <td>llegar</td>\n",
       "      <td>17567</td>\n",
       "    </tr>\n",
       "    <tr>\n",
       "      <th>1019</th>\n",
       "      <td>madre</td>\n",
       "      <td>17937</td>\n",
       "    </tr>\n",
       "    <tr>\n",
       "      <th>1568</th>\n",
       "      <td>marcha</td>\n",
       "      <td>18273</td>\n",
       "    </tr>\n",
       "    <tr>\n",
       "      <th>2281</th>\n",
       "      <td>pereira</td>\n",
       "      <td>21603</td>\n",
       "    </tr>\n",
       "    <tr>\n",
       "      <th>2966</th>\n",
       "      <td>tierra</td>\n",
       "      <td>28030</td>\n",
       "    </tr>\n",
       "    <tr>\n",
       "      <th>10863</th>\n",
       "      <td>caminantes</td>\n",
       "      <td>4533</td>\n",
       "    </tr>\n",
       "    <tr>\n",
       "      <th>10871</th>\n",
       "      <td>abuela</td>\n",
       "      <td>141</td>\n",
       "    </tr>\n",
       "    <tr>\n",
       "      <th>10872</th>\n",
       "      <td>gonzalez</td>\n",
       "      <td>13873</td>\n",
       "    </tr>\n",
       "    <tr>\n",
       "      <th>10884</th>\n",
       "      <td>realizaron</td>\n",
       "      <td>23947</td>\n",
       "    </tr>\n",
       "    <tr>\n",
       "      <th>10891</th>\n",
       "      <td>guíame</td>\n",
       "      <td>14202</td>\n",
       "    </tr>\n",
       "  </tbody>\n",
       "</table>"
      ],
      "text/plain": [
       "<IPython.core.display.HTML object>"
      ]
     },
     "metadata": {},
     "output_type": "display_data"
    },
    {
     "data": {
      "text/html": [
       "<h1>CLUSTER 9</h1>"
      ],
      "text/plain": [
       "<IPython.core.display.HTML object>"
      ]
     },
     "metadata": {},
     "output_type": "display_data"
    },
    {
     "data": {
      "text/html": [
       "<table border=\"1\" class=\"dataframe\">\n",
       "  <thead>\n",
       "    <tr style=\"text-align: right;\">\n",
       "      <th></th>\n",
       "      <th>Palabra</th>\n",
       "      <th>pos</th>\n",
       "    </tr>\n",
       "  </thead>\n",
       "  <tbody>\n",
       "    <tr>\n",
       "      <th>894</th>\n",
       "      <td>millones</td>\n",
       "      <td>18933</td>\n",
       "    </tr>\n",
       "    <tr>\n",
       "      <th>930</th>\n",
       "      <td>locales</td>\n",
       "      <td>17658</td>\n",
       "    </tr>\n",
       "    <tr>\n",
       "      <th>943</th>\n",
       "      <td>obras</td>\n",
       "      <td>20206</td>\n",
       "    </tr>\n",
       "    <tr>\n",
       "      <th>952</th>\n",
       "      <td>abrir</td>\n",
       "      <td>99</td>\n",
       "    </tr>\n",
       "    <tr>\n",
       "      <th>1541</th>\n",
       "      <td>reciente</td>\n",
       "      <td>24063</td>\n",
       "    </tr>\n",
       "    <tr>\n",
       "      <th>1866</th>\n",
       "      <td>obra</td>\n",
       "      <td>20203</td>\n",
       "    </tr>\n",
       "    <tr>\n",
       "      <th>2315</th>\n",
       "      <td>pérez</td>\n",
       "      <td>23539</td>\n",
       "    </tr>\n",
       "    <tr>\n",
       "      <th>2779</th>\n",
       "      <td>plaza</td>\n",
       "      <td>22123</td>\n",
       "    </tr>\n",
       "    <tr>\n",
       "      <th>6452</th>\n",
       "      <td>necesarios</td>\n",
       "      <td>19764</td>\n",
       "    </tr>\n",
       "    <tr>\n",
       "      <th>8933</th>\n",
       "      <td>comerciantes</td>\n",
       "      <td>6085</td>\n",
       "    </tr>\n",
       "  </tbody>\n",
       "</table>"
      ],
      "text/plain": [
       "<IPython.core.display.HTML object>"
      ]
     },
     "metadata": {},
     "output_type": "display_data"
    }
   ],
   "source": [
    "vocabulario=pd.DataFrame([list(modelo_de_conteo_2.vocabulary_.keys()),list(modelo_de_conteo_2.vocabulary_.values())]).T\n",
    "vocabulario.columns=['Palabra','pos']\n",
    "from IPython.core.display import HTML,display\n",
    "\n",
    "for i in range(10):\n",
    "    lista=modelo_agrupamiento.cluster_centers_[i].argsort()[-10:]\n",
    "    display(HTML(\"<h1>CLUSTER \"+str(i)+\"</h1>\"))\n",
    "    display(HTML(vocabulario[vocabulario['pos'].isin(lista)].to_html()))"
   ]
  }
 ],
 "metadata": {
  "kernelspec": {
   "display_name": "Python 3 (ipykernel)",
   "language": "python",
   "name": "python3"
  },
  "language_info": {
   "codemirror_mode": {
    "name": "ipython",
    "version": 3
   },
   "file_extension": ".py",
   "mimetype": "text/x-python",
   "name": "python",
   "nbconvert_exporter": "python",
   "pygments_lexer": "ipython3",
   "version": "3.9.13"
  },
  "vscode": {
   "interpreter": {
    "hash": "43dbe3687308bc9f9b1170eeda74f2f07b7727c21844e39cf70f913d86551339"
   }
  }
 },
 "nbformat": 4,
 "nbformat_minor": 5
}
